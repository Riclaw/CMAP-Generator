{
 "cells": [
  {
   "cell_type": "code",
   "execution_count": 22,
   "metadata": {},
   "outputs": [
    {
     "name": "stdout",
     "output_type": "stream",
     "text": [
      "All imported\n"
     ]
    }
   ],
   "source": [
    "with open(\"import_modules.py\") as f:\n",
    "    exec(f.read())\n",
    "\n",
    "from graph import GraphViz"
   ]
  },
  {
   "cell_type": "code",
   "execution_count": 24,
   "metadata": {},
   "outputs": [],
   "source": [
    "def baseline_cmap(df, min_conf_level=0.75):\n",
    "    \"\"\"\n",
    "        Baseline model for concept maps.\n",
    "        min_conf_level is the percentile of the confidence score distribution from which we draw\n",
    "    \"\"\"\n",
    "    df_filtered = df[df[\"confidence\"] >= df[\"confidence\"].quantile(min_conf_level)]\n",
    "    G = GraphViz(df_filtered)\n",
    "    G.graph.write_png(f'example_graph_.png')"
   ]
  },
  {
   "cell_type": "code",
   "execution_count": 25,
   "metadata": {},
   "outputs": [],
   "source": [
    "# Test with baseline\n",
    "\n",
    "with open(\"data.pickle\", 'rb') as f: \n",
    "    data = pickle.load(f)\n",
    "\n",
    "df_test = data[\"Reykjavík Summit\"]\n",
    "baseline_cmap(df_test)"
   ]
  },
  {
   "cell_type": "code",
   "execution_count": null,
   "metadata": {},
   "outputs": [],
   "source": []
  }
 ],
 "metadata": {
  "kernelspec": {
   "display_name": "base",
   "language": "python",
   "name": "python3"
  },
  "language_info": {
   "codemirror_mode": {
    "name": "ipython",
    "version": 3
   },
   "file_extension": ".py",
   "mimetype": "text/x-python",
   "name": "python",
   "nbconvert_exporter": "python",
   "pygments_lexer": "ipython3",
   "version": "3.8.5"
  },
  "orig_nbformat": 4
 },
 "nbformat": 4,
 "nbformat_minor": 2
}
