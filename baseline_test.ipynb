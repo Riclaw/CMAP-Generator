{
 "cells": [
  {
   "cell_type": "code",
   "execution_count": 11,
   "metadata": {},
   "outputs": [],
   "source": [
    "import   pydot, os\n",
    "import   subprocess, sys\n",
    "import   pickle, graphviz\n",
    "import   pandas as pd\n",
    "import   numpy as np\n",
    "from     pyopenie import OpenIE5\n",
    "from     unidecode import unidecode\n",
    "import   networkx as nx\n",
    "import   pylab as plt\n",
    "from     networkx.drawing.nx_agraph import graphviz_layout\n",
    "\n",
    "pd.options.mode.chained_assignment = None "
   ]
  },
  {
   "cell_type": "code",
   "execution_count": 2,
   "metadata": {},
   "outputs": [],
   "source": [
    "with open(\"data.pickle\", 'rb') as f: \n",
    "    data = pickle.load(f)"
   ]
  },
  {
   "cell_type": "code",
   "execution_count": 20,
   "metadata": {},
   "outputs": [],
   "source": [
    "class GraphViz:\n",
    "    def __init__(self, data_relations):\n",
    "        self.subj = data_relations['arg1'].to_list()\n",
    "        self.obj = data_relations['arg2'].to_list()\n",
    "        self.rel = data_relations['rel'].to_list()\n",
    "        self.nodes = []\n",
    "        self.edges = []\n",
    "        self.seen = set()\n",
    "        self.graph = pydot.Dot(graph_type='digraph', rankdir = 'TB')\n",
    "        self.fill_graph()\n",
    "    \n",
    "    def __str__(self):\n",
    "        return 'Nodes:' + str(self.nodes) + '\\n' + 'Edges:' + str(self.edges)\n",
    "    \n",
    "    def get_node(self, text):\n",
    "        if text.lower() in self.seen:\n",
    "            for node in self.nodes:\n",
    "                if node.get_attributes()['label'].lower() == text.lower():\n",
    "                    return node\n",
    "        node = pydot.Node(text, label = text)\n",
    "        self.nodes.append(node)\n",
    "        self.graph.add_node(node)\n",
    "        self.seen.add(text.lower())\n",
    "        return node\n",
    "    \n",
    "    def add_sub_nodes(self, node, key):\n",
    "        for i in range(len(DICT_COMM[key])):\n",
    "            sub_node = self.get_node(DICT_COMM[key][i])\n",
    "            sub_edge = pydot.Edge(node, sub_node, label = '')\n",
    "            self.edges.append(sub_edge)\n",
    "            self.graph.add_edge(sub_edge)\n",
    "            \n",
    "    def fill_graph(self):\n",
    "        for c1, c2, r in zip(self.subj, self.obj, self.rel):\n",
    "            #print(c1, c2, r)\n",
    "            node1 = self.get_node(c1)\n",
    "            # if any(key in c2 for key in DICT_COMM):\n",
    "            #     for key in DICT_COMM:\n",
    "            #         if any(value in c2 for value in DICT_COMM[key]):\n",
    "            #             node2 = self.get_node(key)\n",
    "            #             self.add_sub_nodes(node2, key)\n",
    "            # else:\n",
    "            #     #print('second',c2)\n",
    "            node2 = self.get_node(c2)\n",
    "            edge = pydot.Edge(node1, node2, label = ' ' + r)\n",
    "            self.edges.append(edge)\n",
    "            self.graph.add_edge(edge)"
   ]
  },
  {
   "cell_type": "code",
   "execution_count": 21,
   "metadata": {},
   "outputs": [],
   "source": [
    "def baseline_cmap(df, confidence_level=0.75):\n",
    "    \"\"\"\n",
    "        baseline creation of concept maps\n",
    "    \"\"\"\n",
    "    df_filtered = df[df[\"confidence\"] >= df[\"confidence\"].quantile(confidence_level)]\n",
    "    G = GraphViz(df_filtered)\n",
    "    G.graph.write_png(f'example_graph_.png')"
   ]
  },
  {
   "cell_type": "code",
   "execution_count": 22,
   "metadata": {},
   "outputs": [],
   "source": [
    "baseline_cmap(df_test, 0.75)"
   ]
  },
  {
   "cell_type": "code",
   "execution_count": 16,
   "metadata": {},
   "outputs": [],
   "source": [
    "df_test = data[\"Reykjavík Summit\"]"
   ]
  },
  {
   "cell_type": "code",
   "execution_count": null,
   "metadata": {},
   "outputs": [],
   "source": []
  }
 ],
 "metadata": {
  "kernelspec": {
   "display_name": "base",
   "language": "python",
   "name": "python3"
  },
  "language_info": {
   "codemirror_mode": {
    "name": "ipython",
    "version": 3
   },
   "file_extension": ".py",
   "mimetype": "text/x-python",
   "name": "python",
   "nbconvert_exporter": "python",
   "pygments_lexer": "ipython3",
   "version": "3.8.5"
  },
  "orig_nbformat": 4
 },
 "nbformat": 4,
 "nbformat_minor": 2
}
