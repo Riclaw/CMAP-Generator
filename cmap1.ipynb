{
 "cells": [
  {
   "cell_type": "code",
   "execution_count": 1,
   "metadata": {},
   "outputs": [
    {
     "name": "stderr",
     "output_type": "stream",
     "text": [
      "/opt/anaconda3/lib/python3.8/site-packages/pandas/core/computation/expressions.py:20: UserWarning: Pandas requires version '2.7.3' or newer of 'numexpr' (version '2.7.1' currently installed).\n",
      "  from pandas.core.computation.check import NUMEXPR_INSTALLED\n"
     ]
    },
    {
     "name": "stdout",
     "output_type": "stream",
     "text": [
      "All imported\n"
     ]
    }
   ],
   "source": [
    "with open(\"import_modules.py\") as f:\n",
    "    exec(f.read())\n",
    "\n",
    "from graph import GraphViz"
   ]
  },
  {
   "cell_type": "code",
   "execution_count": 2,
   "metadata": {},
   "outputs": [],
   "source": [
    "from sklearn.metrics.pairwise import cosine_similarity\n",
    "from sklearn.feature_extraction.text import TfidfVectorizer\n",
    "vectorizer=TfidfVectorizer(ngram_range=(1,2))\n",
    "\n",
    "def merge_concepts(df):\n",
    "    #compute similarity matrix between subjects\n",
    "    nodes = df['arg1'].unique()\n",
    "    similarity_matrix = cosine_similarity(vectorizer.fit_transform(nodes))\n",
    "    \n",
    "    #create clusters of similar subjects\n",
    "    set_list = []\n",
    "    for i in range(len(nodes)):\n",
    "        s = set([nodes[j] for j in range(len(nodes)) if i != j if similarity_matrix[i][j] > 0.3])\n",
    "        s.add(nodes[i])\n",
    "        set_list.append(s)\n",
    "    for i in range(len(set_list)):\n",
    "        for j in range(i+1, len(set_list)):\n",
    "            if set_list[i] & set_list[j]:\n",
    "                set_list[i] = set_list[i] | set_list[j]\n",
    "                set_list[j] = set()\n",
    "    set_list = [s for s in set_list if s]\n",
    "    \n",
    "    #create dictionary to substitute subjects with the simpliest one in the cluster\n",
    "    dict = {}\n",
    "    for s in set_list:\n",
    "        simplest_concept = min(s, key=lambda x: len(x))\n",
    "        for concept in s:\n",
    "            dict[concept] = simplest_concept\n",
    "    \n",
    "    #substitute subjects in dataframe\n",
    "    df.arg1= df.arg1.map(dict)\n",
    "    return df"
   ]
  },
  {
   "cell_type": "code",
   "execution_count": 3,
   "metadata": {},
   "outputs": [],
   "source": [
    "#Remove duplicates, subphrases, and similar phrases\n",
    "def filter_rows(df):\n",
    "    seen = set()\n",
    "    for i, row in df.iterrows():\n",
    "        phrase = row['arg1'] + ' ' + row['rel'] + ' ' + row['arg2']\n",
    "        if phrase in seen:\n",
    "            df = df.drop(i)\n",
    "        else:\n",
    "            seen.add(phrase)\n",
    "    df = df.reset_index(drop=True)\n",
    "    for l1 in list(seen):\n",
    "        for l2 in list(seen):\n",
    "            if l1 != l2 and l1 in l2:\n",
    "                try:\n",
    "                    seen.remove(l1)\n",
    "                except KeyError:\n",
    "                    continue\n",
    "    df = df[(df['arg1'] + ' ' + df['rel'] + ' ' + df['arg2']).isin(seen)].reset_index(drop=True)\n",
    "    return df\n",
    "\n",
    "def remove_similar_phrases(df):\n",
    "    rem_ind = set()\n",
    "    df['phrase'] = df['arg1'] + ' ' + df['rel'] + ' ' + df['arg2']\n",
    "    sim = cosine_similarity(vectorizer.fit_transform(df['phrase']))\n",
    "    for i in range(len(sim)):\n",
    "        for j in range(i+1, len(sim)):\n",
    "            if sim[i][j] > 0.30:\n",
    "                if len((df['phrase'].unique()[i]).split(' ')) > len((df['phrase'].unique()[j]).split(' ')):\n",
    "                    rem_ind.add(j)\n",
    "                else:\n",
    "                    rem_ind.add(i)\n",
    "    return df.drop(rem_ind).reset_index(drop = True).drop('phrase', axis = 1)"
   ]
  },
  {
   "cell_type": "code",
   "execution_count": 4,
   "metadata": {},
   "outputs": [],
   "source": [
    "DICT_COMM = {}\n",
    "def concat_objects(relation):\n",
    "    object_list = relation['arg2'].tolist()\n",
    "    max_conf = np.max(relation['confidence'])\n",
    "    common = ''\n",
    "    first = object_list[0].split(' ')\n",
    "    for i in range(len(first)):\n",
    "        if all(obj.startswith(common) for obj in object_list):\n",
    "            if common == '':\n",
    "                common += first[i] \n",
    "            elif i < len(first) - 1:\n",
    "                common += ' ' + first[i]\n",
    "        else:\n",
    "            common = ' '.join(common.split(' ')[:-1])\n",
    "            break\n",
    "    common = common.rstrip()  \n",
    "    # remove trailing spaces\n",
    "    if common == '':\n",
    "        return max_conf, ', '.join(object_list)\n",
    "    objects = [obj[len(common):].lstrip() for obj in object_list]\n",
    "    if all(obj == '' for obj in objects):\n",
    "        return max_conf, (common).rstrip()\n",
    "    if len(objects) == 1:\n",
    "        return max_conf, (common + ' ' + objects[0]).rstrip()\n",
    "    DICT_COMM[common] = objects\n",
    "    return max_conf, (common + ' ' + ', '.join(objects[:-1]) + ' and ' + objects[-1]).rstrip()\n",
    "\n",
    "#Concatenate subjects with 'and' where there is the same object and relation\n",
    "def concat_subjects(relation):\n",
    "    subject_list = relation['arg1'].tolist()\n",
    "    max_conf = np.max(relation['confidence'])\n",
    "    return max_conf, (' and '.join(subject_list)).rstrip()\n",
    "\n",
    "def concat_concepts(df):\n",
    "    result = df.groupby(['arg1', 'rel']).apply(concat_objects).reset_index()\n",
    "    result['confidence'], result['arg2'] = zip(*result[0])\n",
    "    result = result.drop(columns = 0).sort_values(by='confidence', ascending=False).reset_index(drop=True)\n",
    "    result = result.groupby(['arg2', 'rel']).apply(concat_subjects).reset_index()\n",
    "    result['confidence'], result['arg1'] = zip(*result[0])\n",
    "    result = result.drop(columns = 0).sort_values(by='confidence', ascending=False).reset_index(drop=True)\n",
    "    result = result[['confidence', 'arg1', 'rel', 'arg2']]\n",
    "    return result\n"
   ]
  },
  {
   "cell_type": "code",
   "execution_count": 5,
   "metadata": {},
   "outputs": [],
   "source": [
    "def cmap_pipeline(df, min_conf_level, index):\n",
    "    DICT_COMM.clear()\n",
    "    df = df[df['confidence'] >= df[\"confidence\"].quantile(min_conf_level)]\n",
    "    df = merge_concepts(df)\n",
    "    df = filter_rows(df)\n",
    "    df = concat_concepts(df)\n",
    "    df = df[df['arg2'].apply(lambda x: len(x.split(' ')) > 1)].reset_index(drop = True)\n",
    "    df = df[df['rel'].apply(lambda x: len(x.split(' ')) < 6)].reset_index(drop = True)\n",
    "    df = remove_similar_phrases(df)\n",
    "    G = GraphViz(df)\n",
    "    G.graph.write_png(f'example_graph_{index}.png')"
   ]
  },
  {
   "cell_type": "code",
   "execution_count": 6,
   "metadata": {},
   "outputs": [],
   "source": [
    "with open('data.pickle', 'rb') as f:\n",
    "    data = pickle.load(f)"
   ]
  },
  {
   "cell_type": "code",
   "execution_count": 7,
   "metadata": {},
   "outputs": [],
   "source": [
    "#The first one works, the second one doesn't\n",
    "cmap_pipeline(data['Reykjavík Summit'], 0.75, 0)"
   ]
  },
  {
   "cell_type": "code",
   "execution_count": 8,
   "metadata": {},
   "outputs": [],
   "source": [
    "#The first one works, the second one doesn't\n",
    "cmap_pipeline(data['Palestinian Expatriates'], 0.82, 1)"
   ]
  },
  {
   "cell_type": "code",
   "execution_count": 22,
   "metadata": {},
   "outputs": [],
   "source": [
    "# Sembra ci sia un problema con qualche carattere speciale nel testo, ma è solo nel salvare l'immagine che da errore (write_png)\n",
    "# Ho provato a sostituire graphviz and pydot con networkx + graphviz_layout (lo portavano come soluzione del problema su stackoverflow), \n",
    "# ed è dove ho avuto l'altro errore. \n",
    "# THANK YOU! ;) "
   ]
  }
 ],
 "metadata": {
  "kernelspec": {
   "display_name": "Python 3",
   "language": "python",
   "name": "python3"
  },
  "language_info": {
   "codemirror_mode": {
    "name": "ipython",
    "version": 3
   },
   "file_extension": ".py",
   "mimetype": "text/x-python",
   "name": "python",
   "nbconvert_exporter": "python",
   "pygments_lexer": "ipython3",
   "version": "3.8.5"
  },
  "orig_nbformat": 4
 },
 "nbformat": 4,
 "nbformat_minor": 2
}
