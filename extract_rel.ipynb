{
 "cells": [
  {
   "cell_type": "code",
   "execution_count": 2,
   "metadata": {},
   "outputs": [
    {
     "name": "stdout",
     "output_type": "stream",
     "text": [
      "All imported\n"
     ]
    }
   ],
   "source": [
    "with open(\"import_modules.py\") as f:\n",
    "    exec(f.read())"
   ]
  },
  {
   "cell_type": "code",
   "execution_count": 18,
   "metadata": {},
   "outputs": [],
   "source": [
    "# df1 = pd.read_csv('books_new_modified_1348.csv')\n",
    "# df2 = pd.read_csv('wiki_extended_divided_44654.csv')\n",
    "# df3 = pd.read_csv('essays_ext_3828.csv')\n",
    "# df_tot = pd.concat((df1, df2, df3), ignore_index= True)"
   ]
  },
  {
   "cell_type": "code",
   "execution_count": 10,
   "metadata": {},
   "outputs": [],
   "source": [
    "df_tot = pd.read_csv('for_relations.csv')\n",
    "df_tot.drop(['Unnamed: 0'], axis=1, inplace=True)\n",
    "df_tot.drop(100, axis=0, inplace=True)"
   ]
  },
  {
   "cell_type": "code",
   "execution_count": 12,
   "metadata": {},
   "outputs": [],
   "source": [
    "url = 'http://localhost:8000/getExtraction'\n",
    "headers = {'Content-type': 'text/plain'}   "
   ]
  },
  {
   "cell_type": "code",
   "execution_count": 13,
   "metadata": {},
   "outputs": [],
   "source": [
    "roman_reg = re.compile('(?<=^)M{0,4}(CM|CD|D?C{0,3})(XC|XL|L?X{0,3})(IX|IV|V?I{0,3})(?=$)')\n",
    "\n",
    "def romanToInt(s):\n",
    "    translations = {\n",
    "        \"I\": 1,\n",
    "        \"V\": 5,\n",
    "        \"X\": 10,\n",
    "        \"L\": 50,\n",
    "        \"C\": 100,\n",
    "        \"D\": 500,\n",
    "        \"M\": 1000\n",
    "    }\n",
    "    number = 0\n",
    "    s = s.replace(\"IV\", \"IIII\").replace(\"IX\", \"VIIII\")\n",
    "    s = s.replace(\"XL\", \"XXXX\").replace(\"XC\", \"LXXXX\")\n",
    "    s = s.replace(\"CD\", \"CCCC\").replace(\"CM\", \"DCCCC\")\n",
    "    for char in s:\n",
    "        number += translations[char]\n",
    "    return number\n",
    "\n",
    "def get_matches(text):\n",
    "    tokenize = nltk.word_tokenize(text)\n",
    "    dict = {}\n",
    "    for token in tokenize:\n",
    "        if roman_reg.match(token):\n",
    "            dict[token] = romanToInt(token)\n",
    "    return dict\n",
    "\n",
    "def replace_matches(text):\n",
    "    matches = get_matches(text)\n",
    "    for key in matches:\n",
    "        text = text.replace(key, str(matches[key]))\n",
    "    return text"
   ]
  },
  {
   "cell_type": "code",
   "execution_count": 14,
   "metadata": {},
   "outputs": [],
   "source": [
    "def sentence_tokenization(df):\n",
    "    out = [sent_tokenize(par) for par in df.text]\n",
    "    final=[]\n",
    "    for par in out:\n",
    "        clean = []\n",
    "        for i in range(len(par)):\n",
    "            if len(par[i]) > 5:\n",
    "                clean.append(par[i])\n",
    "        final.append(clean)\n",
    "    return final\n",
    "\n",
    "def relation_extraction(out):\n",
    "    issues = 0\n",
    "    #out = sentence_tokenization(df)\n",
    "    rel_ext = []\n",
    "    for par in out:\n",
    "        for s in par[:100]:\n",
    "            s = unidecode(s.replace(' ', ' ').replace('/', ' '))\n",
    "            s = s.replace('$', '').replace('. . .', '. ').replace('...', '. ')\n",
    "            s = replace_matches(s)\n",
    "            s = s.replace(' the ', ' ')\n",
    "            req = requests.request('POST', url, headers=headers, data = s.encode('utf-8'))\n",
    "            try:\n",
    "                js = req.json()\n",
    "                rel_ext.extend(js)\n",
    "            except:\n",
    "                issues +=1\n",
    "                #print('JSON issue')\n",
    "    return issues, rel_ext\n",
    "\n",
    "def create_rel_dataframe(rel):\n",
    "    #issues, rel = relation_extraction(df)\n",
    "    l  = []\n",
    "    for r in rel:\n",
    "        try:\n",
    "            l.append((r['confidence'], r['sentence'], r['extraction']['arg1']['text'], r['extraction']['rel']['text'], \n",
    "                    r['extraction']['arg2s'][0]['text'], r['extraction']['negated'], r['extraction']['passive']))\n",
    "        except IndexError:\n",
    "            pass \n",
    "    \n",
    "    l = list(dict.fromkeys(l))\n",
    "    return pd.DataFrame(l, columns= ['confidence', 'sentence', 'arg1', 'rel', 'arg2', 'negated', 'passive'])"
   ]
  },
  {
   "cell_type": "code",
   "execution_count": 15,
   "metadata": {},
   "outputs": [],
   "source": [
    "import random\n",
    "out = sentence_tokenization(df_tot)\n",
    "random.shuffle(out)"
   ]
  },
  {
   "cell_type": "code",
   "execution_count": 17,
   "metadata": {},
   "outputs": [
    {
     "name": "stdout",
     "output_type": "stream",
     "text": [
      "N. Issues: 0\n"
     ]
    }
   ],
   "source": [
    "issues, rel = relation_extraction(out)\n",
    "print(f'N. Issues: {issues}')"
   ]
  },
  {
   "cell_type": "code",
   "execution_count": 19,
   "metadata": {},
   "outputs": [],
   "source": [
    "rel_df = create_rel_dataframe(rel)"
   ]
  },
  {
   "cell_type": "code",
   "execution_count": 20,
   "metadata": {},
   "outputs": [
    {
     "data": {
      "text/plain": [
       "6710"
      ]
     },
     "execution_count": 20,
     "metadata": {},
     "output_type": "execute_result"
    }
   ],
   "source": [
    "len(rel_df)"
   ]
  },
  {
   "cell_type": "code",
   "execution_count": 22,
   "metadata": {},
   "outputs": [],
   "source": [
    "rel_df = rel_df[rel_df['arg2'].apply(lambda x: len(x.split(' ')) > 1)].reset_index(drop = True)\n",
    "rel_df = rel_df[rel_df['rel'].apply(lambda x: len(x.split(' ')) < 6)].reset_index(drop = True)"
   ]
  },
  {
   "cell_type": "code",
   "execution_count": 24,
   "metadata": {},
   "outputs": [],
   "source": [
    "rel_df[\"is_valuable\"]=[0 for i in range(len(rel_df))]"
   ]
  },
  {
   "cell_type": "code",
   "execution_count": 31,
   "metadata": {},
   "outputs": [],
   "source": [
    "rel_df_lor=rel_df.iloc[0:len(rel_df)//2,:]\n",
    "rel_df_ric=rel_df.iloc[len(rel_df)//2:,:]"
   ]
  },
  {
   "cell_type": "code",
   "execution_count": 39,
   "metadata": {},
   "outputs": [],
   "source": [
    "rel_df_lor.to_excel('for_annotations_relations_lorenzo_try.xlsx')\n",
    "# rel_df_ric.to_csv('for_annotations_relations_riccardo.csv')"
   ]
  },
  {
   "cell_type": "code",
   "execution_count": 37,
   "metadata": {},
   "outputs": [
    {
     "data": {
      "text/plain": [
       "confidence                                              0.945534\n",
       "sentence       \" That event erupted into a brawl that pitted ...\n",
       "arg1            a brawl that pitted Jews against Anglo Canadians\n",
       "rel                                                      went on\n",
       "arg2                                                   for hours\n",
       "negated                                                    False\n",
       "passive                                                     True\n",
       "is_valuable                                                    0\n",
       "Name: 229, dtype: object"
      ]
     },
     "execution_count": 37,
     "metadata": {},
     "output_type": "execute_result"
    }
   ],
   "source": [
    "rel_df_lor.iloc[229]"
   ]
  },
  {
   "cell_type": "code",
   "execution_count": 43,
   "metadata": {},
   "outputs": [
    {
     "data": {
      "text/plain": [
       "1"
      ]
     },
     "execution_count": 43,
     "metadata": {},
     "output_type": "execute_result"
    }
   ],
   "source": [
    "a=np.random.choice([1,2])\n",
    "a"
   ]
  },
  {
   "cell_type": "code",
   "execution_count": null,
   "metadata": {},
   "outputs": [],
   "source": []
  }
 ],
 "metadata": {
  "kernelspec": {
   "display_name": "base",
   "language": "python",
   "name": "python3"
  },
  "language_info": {
   "codemirror_mode": {
    "name": "ipython",
    "version": 3
   },
   "file_extension": ".py",
   "mimetype": "text/x-python",
   "name": "python",
   "nbconvert_exporter": "python",
   "pygments_lexer": "ipython3",
   "version": "3.8.5"
  },
  "orig_nbformat": 4
 },
 "nbformat": 4,
 "nbformat_minor": 2
}
