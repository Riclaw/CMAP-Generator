{
 "cells": [
  {
   "cell_type": "code",
   "execution_count": 123,
   "metadata": {},
   "outputs": [
    {
     "name": "stderr",
     "output_type": "stream",
     "text": [
      "[nltk_data] Downloading package averaged_perceptron_tagger to\n",
      "[nltk_data]     /Users/dimpo/nltk_data...\n",
      "[nltk_data]   Package averaged_perceptron_tagger is already up-to-\n",
      "[nltk_data]       date!\n"
     ]
    }
   ],
   "source": [
    "import pandas as pd\n",
    "import numpy as np\n",
    "import matplotlib.pyplot as plt\n",
    "import seaborn as sns\n",
    "from nltk import word_tokenize\n",
    "from sklearn.ensemble import RandomForestClassifier\n",
    "from sklearn.model_selection import cross_val_score\n",
    "from sentence_transformers import SentenceTransformer\n",
    "import nltk\n",
    "nltk.download('averaged_perceptron_tagger')\n",
    "from sklearn.model_selection import RandomizedSearchCV\n",
    "from scipy.stats import randint\n",
    "from sklearn.utils import resample\n"
   ]
  },
  {
   "attachments": {},
   "cell_type": "markdown",
   "metadata": {},
   "source": [
    "# FIRST TRY WITH FULL ANNOTATIONS"
   ]
  },
  {
   "cell_type": "code",
   "execution_count": 57,
   "metadata": {},
   "outputs": [],
   "source": [
    "lor=pd.read_excel(\"for_annotations_relations_lorenzo_try.xlsx\")\n",
    "ric=pd.read_excel(\"annotations 2000.xlsx\")\n",
    "ric=ric.iloc[0:2000,:]\n",
    "lor=lor.iloc[0:2170,:]"
   ]
  },
  {
   "cell_type": "code",
   "execution_count": 58,
   "metadata": {},
   "outputs": [],
   "source": [
    "ric.drop(['Column1'],axis=1,inplace=True)\n",
    "lor.drop(['Unnamed: 0'],axis=1,inplace=True)"
   ]
  },
  {
   "cell_type": "code",
   "execution_count": 59,
   "metadata": {},
   "outputs": [],
   "source": [
    "final=pd.concat([lor,ric]).reset_index(drop=True)"
   ]
  },
  {
   "cell_type": "code",
   "execution_count": 60,
   "metadata": {},
   "outputs": [],
   "source": [
    "final.loc[1693,\"is_valuable\"]=1"
   ]
  },
  {
   "cell_type": "code",
   "execution_count": 61,
   "metadata": {},
   "outputs": [],
   "source": [
    "final[\"is_valuable_rel\"]=[1 for i in range(len(final))]\n",
    "final[\"is_valuable_arg2\"]=[1 for i in range(len(final))]"
   ]
  },
  {
   "cell_type": "code",
   "execution_count": 62,
   "metadata": {},
   "outputs": [],
   "source": [
    "final.to_excel(\"final.xlsx\")"
   ]
  },
  {
   "cell_type": "code",
   "execution_count": 50,
   "metadata": {},
   "outputs": [
    {
     "data": {
      "text/plain": [
       "<AxesSubplot: xlabel='is_valuable', ylabel='Count'>"
      ]
     },
     "execution_count": 50,
     "metadata": {},
     "output_type": "execute_result"
    },
    {
     "data": {
      "image/png": "[encoded data removed]",
      "text/plain": [
       "<Figure size 640x480 with 1 Axes>"
      ]
     },
     "metadata": {},
     "output_type": "display_data"
    }
   ],
   "source": [
    "sns.histplot(final[\"is_valuable\"])"
   ]
  },
  {
   "cell_type": "code",
   "execution_count": 51,
   "metadata": {},
   "outputs": [],
   "source": [
    "final[\"len_arg1\"]=final[\"arg1\"].apply(lambda x: len(word_tokenize(x)))\n",
    "final[\"len_rel\"]=final[\"rel\"].apply(lambda x: len(word_tokenize(x)))\n",
    "final[\"len_arg2\"]=final[\"arg2\"].apply(lambda x: len(word_tokenize(x)))"
   ]
  },
  {
   "cell_type": "code",
   "execution_count": 38,
   "metadata": {},
   "outputs": [],
   "source": [
    "\n",
    "model = SentenceTransformer('all-MiniLM-L6-v2')\n",
    "final.loc[:, 'arg1'] = final.loc[:, 'arg1'].apply(lambda x: model.encode(x))\n",
    "final.loc[:, 'rel'] = final.loc[:, 'rel'].apply(lambda x: model.encode(x))\n",
    "final.loc[:, 'arg2'] = final.loc[:, 'arg2'].apply(lambda x: model.encode(x))"
   ]
  },
  {
   "cell_type": "code",
   "execution_count": 39,
   "metadata": {},
   "outputs": [],
   "source": [
    "embeddings_arg1 = np.vstack(final.loc[:, 'arg1'].values)\n",
    "embeddings_rel = np.vstack(final.loc[:, 'rel'].values)\n",
    "embeddings_arg2 = np.vstack(final.loc[:, 'arg2'].values)"
   ]
  },
  {
   "cell_type": "code",
   "execution_count": 40,
   "metadata": {},
   "outputs": [],
   "source": [
    "# final.loc[:, 'negated']=final.loc[:, 'negated'].apply(lambda x: 1 if x==True else 0)\n",
    "# final.loc[:, 'passive']=final.loc[:, 'passive'].apply(lambda x: 1 if x==True else 0)\n",
    "# negated = np.expand_dims(final.loc[:, 'negated'].values, axis=1)\n",
    "# passive = np.expand_dims(final.loc[:, 'passive'].values, axis=1)\n",
    "confidence= final.loc[:, ['confidence']].values\n",
    "len_arg1 = np.expand_dims(final.loc[:, 'len_arg1'].values, axis=1)\n",
    "len_rel = np.expand_dims(final.loc[:, 'len_rel'].values, axis=1)\n",
    "len_arg2 = np.expand_dims(final.loc[:, 'len_arg2'].values, axis=1)\n"
   ]
  },
  {
   "cell_type": "code",
   "execution_count": 41,
   "metadata": {},
   "outputs": [],
   "source": [
    "# X = np.hstack([embeddings_arg1, embeddings_rel, embeddings_arg2, negated, passive, confidence])\n",
    "X = np.hstack([embeddings_arg1, embeddings_rel, embeddings_arg2, confidence, len_arg1, len_rel, len_arg2])"
   ]
  },
  {
   "cell_type": "code",
   "execution_count": 54,
   "metadata": {},
   "outputs": [],
   "source": [
    "X=final.drop(['is_valuable', 'sentence', 'arg1', 'rel', 'arg2', 'negated', 'passive'],axis=1)"
   ]
  },
  {
   "cell_type": "code",
   "execution_count": 42,
   "metadata": {},
   "outputs": [],
   "source": [
    "y=final.loc[:, 'is_valuable'].astype(int)"
   ]
  },
  {
   "cell_type": "code",
   "execution_count": 56,
   "metadata": {},
   "outputs": [
    {
     "data": {
      "text/plain": [
       "array([0.56115108, 0.55635492, 0.56354916, 0.52278177, 0.55395683])"
      ]
     },
     "execution_count": 56,
     "metadata": {},
     "output_type": "execute_result"
    }
   ],
   "source": [
    "\n",
    "\n",
    "# Create a Random Forest Classifier with desired parameters\n",
    "rf_classifier = RandomForestClassifier(random_state=42)\n",
    "score = cross_val_score(rf_classifier, X, y, cv=5,error_score='raise')\n",
    "score"
   ]
  },
  {
   "cell_type": "code",
   "execution_count": 117,
   "metadata": {},
   "outputs": [
    {
     "data": {
      "text/html": [
       "<style>#sk-container-id-3 {color: black;background-color: white;}#sk-container-id-3 pre{padding: 0;}#sk-container-id-3 div.sk-toggleable {background-color: white;}#sk-container-id-3 label.sk-toggleable__label {cursor: pointer;display: block;width: 100%;margin-bottom: 0;padding: 0.3em;box-sizing: border-box;text-align: center;}#sk-container-id-3 label.sk-toggleable__label-arrow:before {content: \"▸\";float: left;margin-right: 0.25em;color: #696969;}#sk-container-id-3 label.sk-toggleable__label-arrow:hover:before {color: black;}#sk-container-id-3 div.sk-estimator:hover label.sk-toggleable__label-arrow:before {color: black;}#sk-container-id-3 div.sk-toggleable__content {max-height: 0;max-width: 0;overflow: hidden;text-align: left;background-color: #f0f8ff;}#sk-container-id-3 div.sk-toggleable__content pre {margin: 0.2em;color: black;border-radius: 0.25em;background-color: #f0f8ff;}#sk-container-id-3 input.sk-toggleable__control:checked~div.sk-toggleable__content {max-height: 200px;max-width: 100%;overflow: auto;}#sk-container-id-3 input.sk-toggleable__control:checked~label.sk-toggleable__label-arrow:before {content: \"▾\";}#sk-container-id-3 div.sk-estimator input.sk-toggleable__control:checked~label.sk-toggleable__label {background-color: #d4ebff;}#sk-container-id-3 div.sk-label input.sk-toggleable__control:checked~label.sk-toggleable__label {background-color: #d4ebff;}#sk-container-id-3 input.sk-hidden--visually {border: 0;clip: rect(1px 1px 1px 1px);clip: rect(1px, 1px, 1px, 1px);height: 1px;margin: -1px;overflow: hidden;padding: 0;position: absolute;width: 1px;}#sk-container-id-3 div.sk-estimator {font-family: monospace;background-color: #f0f8ff;border: 1px dotted black;border-radius: 0.25em;box-sizing: border-box;margin-bottom: 0.5em;}#sk-container-id-3 div.sk-estimator:hover {background-color: #d4ebff;}#sk-container-id-3 div.sk-parallel-item::after {content: \"\";width: 100%;border-bottom: 1px solid gray;flex-grow: 1;}#sk-container-id-3 div.sk-label:hover label.sk-toggleable__label {background-color: #d4ebff;}#sk-container-id-3 div.sk-serial::before {content: \"\";position: absolute;border-left: 1px solid gray;box-sizing: border-box;top: 0;bottom: 0;left: 50%;z-index: 0;}#sk-container-id-3 div.sk-serial {display: flex;flex-direction: column;align-items: center;background-color: white;padding-right: 0.2em;padding-left: 0.2em;position: relative;}#sk-container-id-3 div.sk-item {position: relative;z-index: 1;}#sk-container-id-3 div.sk-parallel {display: flex;align-items: stretch;justify-content: center;background-color: white;position: relative;}#sk-container-id-3 div.sk-item::before, #sk-container-id-3 div.sk-parallel-item::before {content: \"\";position: absolute;border-left: 1px solid gray;box-sizing: border-box;top: 0;bottom: 0;left: 50%;z-index: -1;}#sk-container-id-3 div.sk-parallel-item {display: flex;flex-direction: column;z-index: 1;position: relative;background-color: white;}#sk-container-id-3 div.sk-parallel-item:first-child::after {align-self: flex-end;width: 50%;}#sk-container-id-3 div.sk-parallel-item:last-child::after {align-self: flex-start;width: 50%;}#sk-container-id-3 div.sk-parallel-item:only-child::after {width: 0;}#sk-container-id-3 div.sk-dashed-wrapped {border: 1px dashed gray;margin: 0 0.4em 0.5em 0.4em;box-sizing: border-box;padding-bottom: 0.4em;background-color: white;}#sk-container-id-3 div.sk-label label {font-family: monospace;font-weight: bold;display: inline-block;line-height: 1.2em;}#sk-container-id-3 div.sk-label-container {text-align: center;}#sk-container-id-3 div.sk-container {/* jupyter's `normalize.less` sets `[hidden] { display: none; }` but bootstrap.min.css set `[hidden] { display: none !important; }` so we also need the `!important` here to be able to override the default hidden behavior on the sphinx rendered scikit-learn.org. See: https://github.com/scikit-learn/scikit-learn/issues/21755 */display: inline-block !important;position: relative;}#sk-container-id-3 div.sk-text-repr-fallback {display: none;}</style><div id=\"sk-container-id-3\" class=\"sk-top-container\"><div class=\"sk-text-repr-fallback\"><pre>RandomForestClassifier(random_state=42)</pre><b>In a Jupyter environment, please rerun this cell to show the HTML representation or trust the notebook. <br />On GitHub, the HTML representation is unable to render, please try loading this page with nbviewer.org.</b></div><div class=\"sk-container\" hidden><div class=\"sk-item\"><div class=\"sk-estimator sk-toggleable\"><input class=\"sk-toggleable__control sk-hidden--visually\" id=\"sk-estimator-id-3\" type=\"checkbox\" checked><label for=\"sk-estimator-id-3\" class=\"sk-toggleable__label sk-toggleable__label-arrow\">RandomForestClassifier</label><div class=\"sk-toggleable__content\"><pre>RandomForestClassifier(random_state=42)</pre></div></div></div></div></div>"
      ],
      "text/plain": [
       "RandomForestClassifier(random_state=42)"
      ]
     },
     "execution_count": 117,
     "metadata": {},
     "output_type": "execute_result"
    }
   ],
   "source": [
    "rf=RandomForestClassifier(random_state=42)\n",
    "rf.fit(X,y)"
   ]
  },
  {
   "cell_type": "code",
   "execution_count": 118,
   "metadata": {},
   "outputs": [
    {
     "data": {
      "text/plain": [
       "['model_file.joblib']"
      ]
     },
     "execution_count": 118,
     "metadata": {},
     "output_type": "execute_result"
    }
   ],
   "source": [
    "from joblib import dump\n",
    "dump(rf, 'model_file.joblib')"
   ]
  },
  {
   "cell_type": "code",
   "execution_count": 135,
   "metadata": {},
   "outputs": [],
   "source": [
    "from sklearn import svm\n",
    "\n",
    "clf = svm.SVC(kernel='linear')\n",
    "score = cross_val_score(clf, X, y, cv=5,error_score='raise')\n",
    "score"
   ]
  },
  {
   "attachments": {},
   "cell_type": "markdown",
   "metadata": {},
   "source": [
    "# SECOND TRY WITH MORE CLASSIFIERS"
   ]
  },
  {
   "cell_type": "code",
   "execution_count": 86,
   "metadata": {},
   "outputs": [],
   "source": [
    "mie = pd.read_excel(\"final.xlsx\")\n",
    "ric = pd.read_csv(\"150ric.csv\")\n",
    "ele = pd.read_csv(\"150ele.csv\")\n",
    "domi = pd.read_csv(\"150domi.csv\")\n",
    "mie.drop(['Unnamed: 0'],axis=1,inplace=True)\n",
    "ele.drop(['Unnamed: 0', 'Unnamed: 0.1'],axis=1,inplace=True)"
   ]
  },
  {
   "cell_type": "code",
   "execution_count": 87,
   "metadata": {},
   "outputs": [],
   "source": [
    "mie=mie.iloc[:605,:]\n",
    "mie.drop(mie[mie[\"is_valuable\"] == \"q\"].index, inplace = True)\n",
    "mie[\"negated\"]=mie[\"negated\"].apply(lambda x: 1 if x==True else 0)\n",
    "mie[\"passive\"]=mie[\"passive\"].apply(lambda x: 1 if x==True else 0)\n",
    "ele[\"negated\"]=ele[\"negated\"].apply(lambda x: 1 if x==True else 0)\n",
    "mie[\"passive\"]=mie[\"passive\"].astype(float)\n",
    "mie[\"negated\"]=mie[\"negated\"].astype(float)\n",
    "ele[\"negated\"]=ele[\"negated\"].astype(float)\n",
    "ele[\"is_valuable\"]=ele[\"is_valuable\"].astype(float)\n",
    "mie[\"is_valuable\"]=mie[\"is_valuable\"].astype(float)\n",
    "ele[\"is_valuable_rel\"]=ele[\"is_valuable_rel\"].astype(float)\n",
    "mie[\"is_valuable_rel\"]=mie[\"is_valuable_rel\"].astype(float)\n",
    "ele[\"is_valuable_arg2\"]=ele[\"is_valuable_arg2\"].astype(float)\n",
    "mie[\"is_valuable_arg2\"]=mie[\"is_valuable_arg2\"].astype(float)\n",
    "ric.rename(columns={\"arg1_val\": \"is_valuable\",\"rel_val\":\"is_valuable_rel\",\"arg2_val\":\"is_valuable_arg2\"},inplace=True)\n"
   ]
  },
  {
   "cell_type": "code",
   "execution_count": 88,
   "metadata": {},
   "outputs": [],
   "source": [
    "final=pd.concat([mie,ric,ele,domi]).reset_index(drop=True)"
   ]
  },
  {
   "cell_type": "code",
   "execution_count": 89,
   "metadata": {},
   "outputs": [
    {
     "data": {
      "image/png": "[encoded data removed]",
      "text/plain": [
       "<Figure size 1200x400 with 3 Axes>"
      ]
     },
     "metadata": {},
     "output_type": "display_data"
    }
   ],
   "source": [
    "fig, axes = plt.subplots(1, 3, figsize=(12, 4))\n",
    "sns.countplot(data=final, x='is_valuable', ax=axes[0])\n",
    "axes[0].set_title('Arg1')\n",
    "sns.countplot(data=final, x='is_valuable_rel', ax=axes[1])\n",
    "axes[1].set_title('Rel')\n",
    "sns.countplot(data=final, x='is_valuable_arg2', ax=axes[2])\n",
    "axes[2].set_title('Arg2')\n",
    "plt.tight_layout()\n",
    "plt.show()\n"
   ]
  },
  {
   "cell_type": "code",
   "execution_count": 140,
   "metadata": {},
   "outputs": [],
   "source": [
    "main_pos_tags = {'Noun': ['NN', 'NNS', 'NNP', 'NNPS'],\n",
    "                 'Pronoun': ['PRP', 'PRP$'],\n",
    "                 'Adjective': ['JJ', 'JJR', 'JJS'],\n",
    "                 'Verb': ['VB', 'VBD', 'VBG', 'VBN', 'VBP', 'VBZ'],\n",
    "                 'Adverb': ['RB', 'RBR', 'RBS'],\n",
    "                 'Determiner': ['DT', 'PDT', 'WDT'],\n",
    "                 'Numeral': ['CD']\n",
    "                }\n",
    "\n",
    "def count_main_pos_tags(sentence):\n",
    "    pos_tags = nltk.pos_tag(nltk.word_tokenize(sentence))\n",
    "    tag_counts = {tag_group: 0 for tag_group in main_pos_tags}\n",
    "    for word, tag in pos_tags:\n",
    "        for tag_group, tags in main_pos_tags.items():\n",
    "            if tag in tags:\n",
    "                tag_counts[tag_group] += 1\n",
    "    return tag_counts"
   ]
  },
  {
   "cell_type": "code",
   "execution_count": 141,
   "metadata": {},
   "outputs": [],
   "source": [
    "def for_class(df,x):\n",
    "    model = SentenceTransformer('all-MiniLM-L6-v2')\n",
    "    if x==\"arg1\":\n",
    "        db=df[[x,\"is_valuable\"]]\n",
    "    elif x==\"rel\":\n",
    "        db=df[[x,\"is_valuable_rel\"]]\n",
    "    elif x==\"arg2\":\n",
    "        db=df[[x,\"is_valuable_arg2\"]]\n",
    "    db[\"length\"]=db[x].apply(lambda x: len(word_tokenize(x)))\n",
    "    db['main_pos_counts'] = db[x].apply(count_main_pos_tags)\n",
    "    db = pd.concat([db.drop('main_pos_counts', axis=1), db['main_pos_counts'].apply(pd.Series)], axis=1)\n",
    "    db[\"rel_nouns\"]=db[\"Noun\"]/db[\"length\"]\n",
    "    db[\"rel_pronouns\"]=db[\"Pronoun\"]/db[\"length\"]\n",
    "    db[\"rel_adjectives\"]=db[\"Adjective\"]/db[\"length\"]\n",
    "    db[\"rel_verbs\"]=db[\"Verb\"]/db[\"length\"]\n",
    "    db[\"rel_adverbs\"]=db[\"Adverb\"]/db[\"length\"]\n",
    "    db[\"rel_determiners\"]=db[\"Determiner\"]/db[\"length\"]\n",
    "    db[\"rel_numerals\"]=db[\"Numeral\"]/db[\"length\"]\n",
    "    if x==\"rel\":\n",
    "        db_majority = db[db['is_valuable_rel'] == 1]  # Majority class\n",
    "        db_minority = db[db['is_valuable_rel'] == 0]  # Minority class\n",
    "        db_majority_undersampled = resample(db_majority, replace=False, n_samples=len(db_minority))\n",
    "        db = pd.concat([db_majority_undersampled, db_minority]).reset_index(drop=True)\n",
    "        db_aux=db.copy()\n",
    "    else:\n",
    "        db_aux=None\n",
    "    db.loc[:, x] = db.loc[:, x].apply(lambda x: model.encode(x))\n",
    "    embeddings_arg1 = np.vstack(db.loc[:, x].values)\n",
    "    len_arg1 = np.expand_dims(db.loc[:, 'length'].values, axis=1)\n",
    "    nouns=np.expand_dims(db.loc[:, 'Noun'].values, axis=1)\n",
    "    pronouns=np.expand_dims(db.loc[:, 'Pronoun'].values, axis=1)\n",
    "    adjectives=np.expand_dims(db.loc[:, 'Adjective'].values, axis=1)\n",
    "    verbs=np.expand_dims(db.loc[:, 'Verb'].values, axis=1)\n",
    "    rel_nouns=np.expand_dims(db.loc[:, 'rel_nouns'].values, axis=1)\n",
    "    rel_pronouns=np.expand_dims(db.loc[:, 'rel_pronouns'].values, axis=1)\n",
    "    rel_adjectives=np.expand_dims(db.loc[:, 'rel_adjectives'].values, axis=1)\n",
    "    rel_verbs=np.expand_dims(db.loc[:, 'rel_verbs'].values, axis=1)\n",
    "    rel_adverbs=np.expand_dims(db.loc[:, 'rel_adverbs'].values, axis=1)\n",
    "    rel_determiners=np.expand_dims(db.loc[:, 'rel_determiners'].values, axis=1)\n",
    "    rel_numerals=np.expand_dims(db.loc[:, 'rel_numerals'].values, axis=1)\n",
    "    db= np.hstack([embeddings_arg1, len_arg1, nouns, pronouns, adjectives, verbs, rel_nouns, rel_pronouns, rel_adjectives, rel_verbs, rel_adverbs, rel_determiners, rel_numerals])\n",
    "    \n",
    "    return db, db_aux"
   ]
  },
  {
   "attachments": {},
   "cell_type": "markdown",
   "metadata": {},
   "source": [
    "### Classifier for Arg1"
   ]
  },
  {
   "cell_type": "code",
   "execution_count": 142,
   "metadata": {},
   "outputs": [
    {
     "name": "stderr",
     "output_type": "stream",
     "text": [
      "/var/folders/hx/n0zcsqj95pq2sj7w5hfh23qm0000gn/T/ipykernel_17943/2113341153.py:9: SettingWithCopyWarning: \n",
      "A value is trying to be set on a copy of a slice from a DataFrame.\n",
      "Try using .loc[row_indexer,col_indexer] = value instead\n",
      "\n",
      "See the caveats in the documentation: https://pandas.pydata.org/pandas-docs/stable/user_guide/indexing.html#returning-a-view-versus-a-copy\n",
      "  db[\"length\"]=db[x].apply(lambda x: len(word_tokenize(x)))\n",
      "/var/folders/hx/n0zcsqj95pq2sj7w5hfh23qm0000gn/T/ipykernel_17943/2113341153.py:10: SettingWithCopyWarning: \n",
      "A value is trying to be set on a copy of a slice from a DataFrame.\n",
      "Try using .loc[row_indexer,col_indexer] = value instead\n",
      "\n",
      "See the caveats in the documentation: https://pandas.pydata.org/pandas-docs/stable/user_guide/indexing.html#returning-a-view-versus-a-copy\n",
      "  db['main_pos_counts'] = db[x].apply(count_main_pos_tags)\n"
     ]
    }
   ],
   "source": [
    "db_arg1=for_class(final,\"arg1\")[0]\n",
    "y_arg1=final[\"is_valuable\"]"
   ]
  },
  {
   "cell_type": "code",
   "execution_count": 143,
   "metadata": {},
   "outputs": [
    {
     "name": "stdout",
     "output_type": "stream",
     "text": [
      "the average accuracy was: 0.8142896174863388 and the complete score was: [0.81967213 0.86885246 0.85245902 0.8852459  0.81666667 0.83333333\n",
      " 0.86666667 0.76666667 0.7        0.73333333]\n"
     ]
    }
   ],
   "source": [
    "rf_arg1=RandomForestClassifier(random_state=42)\n",
    "score = cross_val_score(rf_arg1, db_arg1, y_arg1, cv=10,error_score='raise')\n",
    "print(f\"the average accuracy was: {score.mean()} and the complete score was: {score}\")"
   ]
  },
  {
   "cell_type": "code",
   "execution_count": 138,
   "metadata": {},
   "outputs": [
    {
     "data": {
      "text/html": [
       "<style>#sk-container-id-1 {color: black;background-color: white;}#sk-container-id-1 pre{padding: 0;}#sk-container-id-1 div.sk-toggleable {background-color: white;}#sk-container-id-1 label.sk-toggleable__label {cursor: pointer;display: block;width: 100%;margin-bottom: 0;padding: 0.3em;box-sizing: border-box;text-align: center;}#sk-container-id-1 label.sk-toggleable__label-arrow:before {content: \"▸\";float: left;margin-right: 0.25em;color: #696969;}#sk-container-id-1 label.sk-toggleable__label-arrow:hover:before {color: black;}#sk-container-id-1 div.sk-estimator:hover label.sk-toggleable__label-arrow:before {color: black;}#sk-container-id-1 div.sk-toggleable__content {max-height: 0;max-width: 0;overflow: hidden;text-align: left;background-color: #f0f8ff;}#sk-container-id-1 div.sk-toggleable__content pre {margin: 0.2em;color: black;border-radius: 0.25em;background-color: #f0f8ff;}#sk-container-id-1 input.sk-toggleable__control:checked~div.sk-toggleable__content {max-height: 200px;max-width: 100%;overflow: auto;}#sk-container-id-1 input.sk-toggleable__control:checked~label.sk-toggleable__label-arrow:before {content: \"▾\";}#sk-container-id-1 div.sk-estimator input.sk-toggleable__control:checked~label.sk-toggleable__label {background-color: #d4ebff;}#sk-container-id-1 div.sk-label input.sk-toggleable__control:checked~label.sk-toggleable__label {background-color: #d4ebff;}#sk-container-id-1 input.sk-hidden--visually {border: 0;clip: rect(1px 1px 1px 1px);clip: rect(1px, 1px, 1px, 1px);height: 1px;margin: -1px;overflow: hidden;padding: 0;position: absolute;width: 1px;}#sk-container-id-1 div.sk-estimator {font-family: monospace;background-color: #f0f8ff;border: 1px dotted black;border-radius: 0.25em;box-sizing: border-box;margin-bottom: 0.5em;}#sk-container-id-1 div.sk-estimator:hover {background-color: #d4ebff;}#sk-container-id-1 div.sk-parallel-item::after {content: \"\";width: 100%;border-bottom: 1px solid gray;flex-grow: 1;}#sk-container-id-1 div.sk-label:hover label.sk-toggleable__label {background-color: #d4ebff;}#sk-container-id-1 div.sk-serial::before {content: \"\";position: absolute;border-left: 1px solid gray;box-sizing: border-box;top: 0;bottom: 0;left: 50%;z-index: 0;}#sk-container-id-1 div.sk-serial {display: flex;flex-direction: column;align-items: center;background-color: white;padding-right: 0.2em;padding-left: 0.2em;position: relative;}#sk-container-id-1 div.sk-item {position: relative;z-index: 1;}#sk-container-id-1 div.sk-parallel {display: flex;align-items: stretch;justify-content: center;background-color: white;position: relative;}#sk-container-id-1 div.sk-item::before, #sk-container-id-1 div.sk-parallel-item::before {content: \"\";position: absolute;border-left: 1px solid gray;box-sizing: border-box;top: 0;bottom: 0;left: 50%;z-index: -1;}#sk-container-id-1 div.sk-parallel-item {display: flex;flex-direction: column;z-index: 1;position: relative;background-color: white;}#sk-container-id-1 div.sk-parallel-item:first-child::after {align-self: flex-end;width: 50%;}#sk-container-id-1 div.sk-parallel-item:last-child::after {align-self: flex-start;width: 50%;}#sk-container-id-1 div.sk-parallel-item:only-child::after {width: 0;}#sk-container-id-1 div.sk-dashed-wrapped {border: 1px dashed gray;margin: 0 0.4em 0.5em 0.4em;box-sizing: border-box;padding-bottom: 0.4em;background-color: white;}#sk-container-id-1 div.sk-label label {font-family: monospace;font-weight: bold;display: inline-block;line-height: 1.2em;}#sk-container-id-1 div.sk-label-container {text-align: center;}#sk-container-id-1 div.sk-container {/* jupyter's `normalize.less` sets `[hidden] { display: none; }` but bootstrap.min.css set `[hidden] { display: none !important; }` so we also need the `!important` here to be able to override the default hidden behavior on the sphinx rendered scikit-learn.org. See: https://github.com/scikit-learn/scikit-learn/issues/21755 */display: inline-block !important;position: relative;}#sk-container-id-1 div.sk-text-repr-fallback {display: none;}</style><div id=\"sk-container-id-1\" class=\"sk-top-container\"><div class=\"sk-text-repr-fallback\"><pre>RandomForestClassifier(random_state=42)</pre><b>In a Jupyter environment, please rerun this cell to show the HTML representation or trust the notebook. <br />On GitHub, the HTML representation is unable to render, please try loading this page with nbviewer.org.</b></div><div class=\"sk-container\" hidden><div class=\"sk-item\"><div class=\"sk-estimator sk-toggleable\"><input class=\"sk-toggleable__control sk-hidden--visually\" id=\"sk-estimator-id-1\" type=\"checkbox\" checked><label for=\"sk-estimator-id-1\" class=\"sk-toggleable__label sk-toggleable__label-arrow\">RandomForestClassifier</label><div class=\"sk-toggleable__content\"><pre>RandomForestClassifier(random_state=42)</pre></div></div></div></div></div>"
      ],
      "text/plain": [
       "RandomForestClassifier(random_state=42)"
      ]
     },
     "execution_count": 138,
     "metadata": {},
     "output_type": "execute_result"
    }
   ],
   "source": [
    "rf_arg1.fit(db_arg1,y_arg1)"
   ]
  },
  {
   "cell_type": "code",
   "execution_count": 139,
   "metadata": {},
   "outputs": [
    {
     "data": {
      "text/plain": [
       "['model_file.joblib']"
      ]
     },
     "execution_count": 139,
     "metadata": {},
     "output_type": "execute_result"
    }
   ],
   "source": [
    "from joblib import dump\n",
    "dump(rf_arg1, 'model_file.joblib')"
   ]
  },
  {
   "cell_type": "code",
   "execution_count": 147,
   "metadata": {},
   "outputs": [
    {
     "name": "stdout",
     "output_type": "stream",
     "text": [
      "Fitting 5 folds for each of 100 candidates, totalling 500 fits\n",
      "[CV] END max_depth=10, min_impurity_decrease=0.04, min_samples_leaf=4, min_samples_split=5, n_estimators=100; total time=   0.2s\n",
      "[CV] END max_depth=10, min_impurity_decrease=0.04, min_samples_leaf=4, min_samples_split=5, n_estimators=100; total time=   0.2s\n",
      "[CV] END max_depth=10, min_impurity_decrease=0.04, min_samples_leaf=4, min_samples_split=5, n_estimators=100; total time=   0.2s\n",
      "[CV] END max_depth=10, min_impurity_decrease=0.04, min_samples_leaf=4, min_samples_split=5, n_estimators=100; total time=   0.2s\n",
      "[CV] END max_depth=10, min_impurity_decrease=0.04, min_samples_leaf=4, min_samples_split=5, n_estimators=100; total time=   0.2s\n",
      "[CV] END max_depth=None, min_impurity_decrease=0.01, min_samples_leaf=3, min_samples_split=9, n_estimators=600; total time=   1.5s\n",
      "[CV] END max_depth=None, min_impurity_decrease=0.01, min_samples_leaf=3, min_samples_split=9, n_estimators=600; total time=   1.5s\n",
      "[CV] END max_depth=None, min_impurity_decrease=0.01, min_samples_leaf=3, min_samples_split=9, n_estimators=600; total time=   1.5s\n",
      "[CV] END max_depth=None, min_impurity_decrease=0.01, min_samples_leaf=3, min_samples_split=9, n_estimators=600; total time=   1.5s\n",
      "[CV] END max_depth=None, min_impurity_decrease=0.01, min_samples_leaf=3, min_samples_split=9, n_estimators=600; total time=   1.5s\n",
      "[CV] END max_depth=25, min_impurity_decrease=0.08, min_samples_leaf=8, min_samples_split=9, n_estimators=800; total time=   1.0s\n",
      "[CV] END max_depth=25, min_impurity_decrease=0.08, min_samples_leaf=8, min_samples_split=9, n_estimators=800; total time=   1.0s\n",
      "[CV] END max_depth=25, min_impurity_decrease=0.08, min_samples_leaf=8, min_samples_split=9, n_estimators=800; total time=   1.0s\n",
      "[CV] END max_depth=25, min_impurity_decrease=0.08, min_samples_leaf=8, min_samples_split=9, n_estimators=800; total time=   1.0s\n",
      "[CV] END max_depth=25, min_impurity_decrease=0.08, min_samples_leaf=8, min_samples_split=9, n_estimators=800; total time=   1.0s\n",
      "[CV] END max_depth=5, min_impurity_decrease=0.07, min_samples_leaf=4, min_samples_split=7, n_estimators=800; total time=   1.0s\n",
      "[CV] END max_depth=5, min_impurity_decrease=0.07, min_samples_leaf=4, min_samples_split=7, n_estimators=800; total time=   1.0s\n",
      "[CV] END max_depth=5, min_impurity_decrease=0.07, min_samples_leaf=4, min_samples_split=7, n_estimators=800; total time=   1.0s\n",
      "[CV] END max_depth=5, min_impurity_decrease=0.07, min_samples_leaf=4, min_samples_split=7, n_estimators=800; total time=   1.0s\n",
      "[CV] END max_depth=5, min_impurity_decrease=0.07, min_samples_leaf=4, min_samples_split=7, n_estimators=800; total time=   1.0s\n",
      "[CV] END max_depth=None, min_impurity_decrease=0.09, min_samples_leaf=7, min_samples_split=2, n_estimators=200; total time=   0.2s\n",
      "[CV] END max_depth=None, min_impurity_decrease=0.09, min_samples_leaf=7, min_samples_split=2, n_estimators=200; total time=   0.2s\n",
      "[CV] END max_depth=None, min_impurity_decrease=0.09, min_samples_leaf=7, min_samples_split=2, n_estimators=200; total time=   0.2s\n",
      "[CV] END max_depth=None, min_impurity_decrease=0.09, min_samples_leaf=7, min_samples_split=2, n_estimators=200; total time=   0.2s\n",
      "[CV] END max_depth=None, min_impurity_decrease=0.09, min_samples_leaf=7, min_samples_split=2, n_estimators=200; total time=   0.2s\n",
      "[CV] END max_depth=10, min_impurity_decrease=0.06, min_samples_leaf=1, min_samples_split=2, n_estimators=300; total time=   0.4s\n",
      "[CV] END max_depth=10, min_impurity_decrease=0.06, min_samples_leaf=1, min_samples_split=2, n_estimators=300; total time=   0.4s\n",
      "[CV] END max_depth=10, min_impurity_decrease=0.06, min_samples_leaf=1, min_samples_split=2, n_estimators=300; total time=   0.4s\n",
      "[CV] END max_depth=10, min_impurity_decrease=0.06, min_samples_leaf=1, min_samples_split=2, n_estimators=300; total time=   0.4s\n",
      "[CV] END max_depth=10, min_impurity_decrease=0.06, min_samples_leaf=1, min_samples_split=2, n_estimators=300; total time=   0.4s\n",
      "[CV] END max_depth=25, min_impurity_decrease=0.07, min_samples_leaf=4, min_samples_split=6, n_estimators=700; total time=   0.9s\n",
      "[CV] END max_depth=25, min_impurity_decrease=0.07, min_samples_leaf=4, min_samples_split=6, n_estimators=700; total time=   0.9s\n",
      "[CV] END max_depth=25, min_impurity_decrease=0.07, min_samples_leaf=4, min_samples_split=6, n_estimators=700; total time=   0.9s\n",
      "[CV] END max_depth=25, min_impurity_decrease=0.07, min_samples_leaf=4, min_samples_split=6, n_estimators=700; total time=   0.9s\n",
      "[CV] END max_depth=25, min_impurity_decrease=0.07, min_samples_leaf=4, min_samples_split=6, n_estimators=700; total time=   1.0s\n",
      "[CV] END max_depth=15, min_impurity_decrease=0.03, min_samples_leaf=9, min_samples_split=2, n_estimators=300; total time=   0.5s\n",
      "[CV] END max_depth=15, min_impurity_decrease=0.03, min_samples_leaf=9, min_samples_split=2, n_estimators=300; total time=   0.5s\n",
      "[CV] END max_depth=15, min_impurity_decrease=0.03, min_samples_leaf=9, min_samples_split=2, n_estimators=300; total time=   0.5s\n",
      "[CV] END max_depth=15, min_impurity_decrease=0.03, min_samples_leaf=9, min_samples_split=2, n_estimators=300; total time=   0.5s\n",
      "[CV] END max_depth=15, min_impurity_decrease=0.03, min_samples_leaf=9, min_samples_split=2, n_estimators=300; total time=   0.5s\n",
      "[CV] END max_depth=10, min_impurity_decrease=0.04, min_samples_leaf=7, min_samples_split=6, n_estimators=400; total time=   0.6s\n",
      "[CV] END max_depth=10, min_impurity_decrease=0.04, min_samples_leaf=7, min_samples_split=6, n_estimators=400; total time=   0.6s\n",
      "[CV] END max_depth=10, min_impurity_decrease=0.04, min_samples_leaf=7, min_samples_split=6, n_estimators=400; total time=   0.6s\n",
      "[CV] END max_depth=10, min_impurity_decrease=0.04, min_samples_leaf=7, min_samples_split=6, n_estimators=400; total time=   0.6s\n",
      "[CV] END max_depth=10, min_impurity_decrease=0.04, min_samples_leaf=7, min_samples_split=6, n_estimators=400; total time=   0.6s\n",
      "[CV] END max_depth=None, min_impurity_decrease=0.02, min_samples_leaf=6, min_samples_split=5, n_estimators=300; total time=   0.6s\n",
      "[CV] END max_depth=None, min_impurity_decrease=0.02, min_samples_leaf=6, min_samples_split=5, n_estimators=300; total time=   0.6s\n",
      "[CV] END max_depth=None, min_impurity_decrease=0.02, min_samples_leaf=6, min_samples_split=5, n_estimators=300; total time=   0.6s\n",
      "[CV] END max_depth=None, min_impurity_decrease=0.02, min_samples_leaf=6, min_samples_split=5, n_estimators=300; total time=   0.6s\n",
      "[CV] END max_depth=None, min_impurity_decrease=0.02, min_samples_leaf=6, min_samples_split=5, n_estimators=300; total time=   0.6s\n",
      "[CV] END max_depth=None, min_impurity_decrease=0.01, min_samples_leaf=2, min_samples_split=7, n_estimators=500; total time=   1.3s\n",
      "[CV] END max_depth=None, min_impurity_decrease=0.01, min_samples_leaf=2, min_samples_split=7, n_estimators=500; total time=   1.3s\n",
      "[CV] END max_depth=None, min_impurity_decrease=0.01, min_samples_leaf=2, min_samples_split=7, n_estimators=500; total time=   1.3s\n",
      "[CV] END max_depth=None, min_impurity_decrease=0.01, min_samples_leaf=2, min_samples_split=7, n_estimators=500; total time=   1.3s\n",
      "[CV] END max_depth=None, min_impurity_decrease=0.01, min_samples_leaf=2, min_samples_split=7, n_estimators=500; total time=   1.2s\n",
      "[CV] END max_depth=None, min_impurity_decrease=0.03, min_samples_leaf=7, min_samples_split=8, n_estimators=400; total time=   0.7s\n",
      "[CV] END max_depth=None, min_impurity_decrease=0.03, min_samples_leaf=7, min_samples_split=8, n_estimators=400; total time=   0.7s\n",
      "[CV] END max_depth=None, min_impurity_decrease=0.03, min_samples_leaf=7, min_samples_split=8, n_estimators=400; total time=   0.7s\n",
      "[CV] END max_depth=None, min_impurity_decrease=0.03, min_samples_leaf=7, min_samples_split=8, n_estimators=400; total time=   0.7s\n",
      "[CV] END max_depth=None, min_impurity_decrease=0.03, min_samples_leaf=7, min_samples_split=8, n_estimators=400; total time=   0.7s\n",
      "[CV] END max_depth=None, min_impurity_decrease=0.08, min_samples_leaf=2, min_samples_split=8, n_estimators=200; total time=   0.2s\n",
      "[CV] END max_depth=None, min_impurity_decrease=0.08, min_samples_leaf=2, min_samples_split=8, n_estimators=200; total time=   0.2s\n",
      "[CV] END max_depth=None, min_impurity_decrease=0.08, min_samples_leaf=2, min_samples_split=8, n_estimators=200; total time=   0.2s\n",
      "[CV] END max_depth=None, min_impurity_decrease=0.08, min_samples_leaf=2, min_samples_split=8, n_estimators=200; total time=   0.2s\n",
      "[CV] END max_depth=None, min_impurity_decrease=0.08, min_samples_leaf=2, min_samples_split=8, n_estimators=200; total time=   0.3s\n",
      "[CV] END max_depth=25, min_impurity_decrease=0.08, min_samples_leaf=4, min_samples_split=4, n_estimators=200; total time=   0.2s\n",
      "[CV] END max_depth=25, min_impurity_decrease=0.08, min_samples_leaf=4, min_samples_split=4, n_estimators=200; total time=   0.2s\n",
      "[CV] END max_depth=25, min_impurity_decrease=0.08, min_samples_leaf=4, min_samples_split=4, n_estimators=200; total time=   0.2s\n",
      "[CV] END max_depth=25, min_impurity_decrease=0.08, min_samples_leaf=4, min_samples_split=4, n_estimators=200; total time=   0.2s\n",
      "[CV] END max_depth=25, min_impurity_decrease=0.08, min_samples_leaf=4, min_samples_split=4, n_estimators=200; total time=   0.2s\n",
      "[CV] END max_depth=10, min_impurity_decrease=0.07, min_samples_leaf=2, min_samples_split=2, n_estimators=100; total time=   0.1s\n",
      "[CV] END max_depth=10, min_impurity_decrease=0.07, min_samples_leaf=2, min_samples_split=2, n_estimators=100; total time=   0.1s\n",
      "[CV] END max_depth=10, min_impurity_decrease=0.07, min_samples_leaf=2, min_samples_split=2, n_estimators=100; total time=   0.1s\n",
      "[CV] END max_depth=10, min_impurity_decrease=0.07, min_samples_leaf=2, min_samples_split=2, n_estimators=100; total time=   0.1s\n",
      "[CV] END max_depth=10, min_impurity_decrease=0.07, min_samples_leaf=2, min_samples_split=2, n_estimators=100; total time=   0.1s\n",
      "[CV] END max_depth=15, min_impurity_decrease=0.0, min_samples_leaf=5, min_samples_split=6, n_estimators=600; total time=   1.6s\n",
      "[CV] END max_depth=15, min_impurity_decrease=0.0, min_samples_leaf=5, min_samples_split=6, n_estimators=600; total time=   1.7s\n",
      "[CV] END max_depth=15, min_impurity_decrease=0.0, min_samples_leaf=5, min_samples_split=6, n_estimators=600; total time=   1.7s\n",
      "[CV] END max_depth=15, min_impurity_decrease=0.0, min_samples_leaf=5, min_samples_split=6, n_estimators=600; total time=   1.7s\n",
      "[CV] END max_depth=15, min_impurity_decrease=0.0, min_samples_leaf=5, min_samples_split=6, n_estimators=600; total time=   1.6s\n",
      "[CV] END max_depth=20, min_impurity_decrease=0.04, min_samples_leaf=3, min_samples_split=6, n_estimators=200; total time=   0.3s\n",
      "[CV] END max_depth=20, min_impurity_decrease=0.04, min_samples_leaf=3, min_samples_split=6, n_estimators=200; total time=   0.3s\n",
      "[CV] END max_depth=20, min_impurity_decrease=0.04, min_samples_leaf=3, min_samples_split=6, n_estimators=200; total time=   0.3s\n",
      "[CV] END max_depth=20, min_impurity_decrease=0.04, min_samples_leaf=3, min_samples_split=6, n_estimators=200; total time=   0.3s\n",
      "[CV] END max_depth=20, min_impurity_decrease=0.04, min_samples_leaf=3, min_samples_split=6, n_estimators=200; total time=   0.3s\n",
      "[CV] END max_depth=None, min_impurity_decrease=0.09, min_samples_leaf=8, min_samples_split=8, n_estimators=700; total time=   0.8s\n",
      "[CV] END max_depth=None, min_impurity_decrease=0.09, min_samples_leaf=8, min_samples_split=8, n_estimators=700; total time=   0.8s\n",
      "[CV] END max_depth=None, min_impurity_decrease=0.09, min_samples_leaf=8, min_samples_split=8, n_estimators=700; total time=   0.8s\n",
      "[CV] END max_depth=None, min_impurity_decrease=0.09, min_samples_leaf=8, min_samples_split=8, n_estimators=700; total time=   0.8s\n",
      "[CV] END max_depth=None, min_impurity_decrease=0.09, min_samples_leaf=8, min_samples_split=8, n_estimators=700; total time=   0.8s\n",
      "[CV] END max_depth=20, min_impurity_decrease=0.02, min_samples_leaf=4, min_samples_split=7, n_estimators=400; total time=   0.8s\n",
      "[CV] END max_depth=20, min_impurity_decrease=0.02, min_samples_leaf=4, min_samples_split=7, n_estimators=400; total time=   0.8s\n",
      "[CV] END max_depth=20, min_impurity_decrease=0.02, min_samples_leaf=4, min_samples_split=7, n_estimators=400; total time=   0.8s\n",
      "[CV] END max_depth=20, min_impurity_decrease=0.02, min_samples_leaf=4, min_samples_split=7, n_estimators=400; total time=   0.8s\n",
      "[CV] END max_depth=20, min_impurity_decrease=0.02, min_samples_leaf=4, min_samples_split=7, n_estimators=400; total time=   0.8s\n",
      "[CV] END max_depth=15, min_impurity_decrease=0.09, min_samples_leaf=6, min_samples_split=4, n_estimators=900; total time=   1.1s\n",
      "[CV] END max_depth=15, min_impurity_decrease=0.09, min_samples_leaf=6, min_samples_split=4, n_estimators=900; total time=   1.1s\n",
      "[CV] END max_depth=15, min_impurity_decrease=0.09, min_samples_leaf=6, min_samples_split=4, n_estimators=900; total time=   1.1s\n",
      "[CV] END max_depth=15, min_impurity_decrease=0.09, min_samples_leaf=6, min_samples_split=4, n_estimators=900; total time=   1.1s\n",
      "[CV] END max_depth=15, min_impurity_decrease=0.09, min_samples_leaf=6, min_samples_split=4, n_estimators=900; total time=   1.1s\n",
      "[CV] END max_depth=10, min_impurity_decrease=0.09, min_samples_leaf=3, min_samples_split=2, n_estimators=700; total time=   0.8s\n",
      "[CV] END max_depth=10, min_impurity_decrease=0.09, min_samples_leaf=3, min_samples_split=2, n_estimators=700; total time=   0.8s\n",
      "[CV] END max_depth=10, min_impurity_decrease=0.09, min_samples_leaf=3, min_samples_split=2, n_estimators=700; total time=   0.8s\n",
      "[CV] END max_depth=10, min_impurity_decrease=0.09, min_samples_leaf=3, min_samples_split=2, n_estimators=700; total time=   0.9s\n",
      "[CV] END max_depth=10, min_impurity_decrease=0.09, min_samples_leaf=3, min_samples_split=2, n_estimators=700; total time=   0.8s\n",
      "[CV] END max_depth=10, min_impurity_decrease=0.08, min_samples_leaf=4, min_samples_split=9, n_estimators=900; total time=   1.1s\n",
      "[CV] END max_depth=10, min_impurity_decrease=0.08, min_samples_leaf=4, min_samples_split=9, n_estimators=900; total time=   1.2s\n",
      "[CV] END max_depth=10, min_impurity_decrease=0.08, min_samples_leaf=4, min_samples_split=9, n_estimators=900; total time=   1.1s\n",
      "[CV] END max_depth=10, min_impurity_decrease=0.08, min_samples_leaf=4, min_samples_split=9, n_estimators=900; total time=   1.1s\n",
      "[CV] END max_depth=10, min_impurity_decrease=0.08, min_samples_leaf=4, min_samples_split=9, n_estimators=900; total time=   1.1s\n",
      "[CV] END max_depth=None, min_impurity_decrease=0.04, min_samples_leaf=3, min_samples_split=3, n_estimators=300; total time=   0.5s\n",
      "[CV] END max_depth=None, min_impurity_decrease=0.04, min_samples_leaf=3, min_samples_split=3, n_estimators=300; total time=   0.5s\n",
      "[CV] END max_depth=None, min_impurity_decrease=0.04, min_samples_leaf=3, min_samples_split=3, n_estimators=300; total time=   0.5s\n",
      "[CV] END max_depth=None, min_impurity_decrease=0.04, min_samples_leaf=3, min_samples_split=3, n_estimators=300; total time=   0.5s\n",
      "[CV] END max_depth=None, min_impurity_decrease=0.04, min_samples_leaf=3, min_samples_split=3, n_estimators=300; total time=   0.5s\n",
      "[CV] END max_depth=None, min_impurity_decrease=0.0, min_samples_leaf=3, min_samples_split=7, n_estimators=100; total time=   0.3s\n",
      "[CV] END max_depth=None, min_impurity_decrease=0.0, min_samples_leaf=3, min_samples_split=7, n_estimators=100; total time=   0.3s\n",
      "[CV] END max_depth=None, min_impurity_decrease=0.0, min_samples_leaf=3, min_samples_split=7, n_estimators=100; total time=   0.3s\n",
      "[CV] END max_depth=None, min_impurity_decrease=0.0, min_samples_leaf=3, min_samples_split=7, n_estimators=100; total time=   0.3s\n",
      "[CV] END max_depth=None, min_impurity_decrease=0.0, min_samples_leaf=3, min_samples_split=7, n_estimators=100; total time=   0.3s\n",
      "[CV] END max_depth=10, min_impurity_decrease=0.09, min_samples_leaf=5, min_samples_split=6, n_estimators=300; total time=   0.4s\n",
      "[CV] END max_depth=10, min_impurity_decrease=0.09, min_samples_leaf=5, min_samples_split=6, n_estimators=300; total time=   0.4s\n",
      "[CV] END max_depth=10, min_impurity_decrease=0.09, min_samples_leaf=5, min_samples_split=6, n_estimators=300; total time=   0.4s\n",
      "[CV] END max_depth=10, min_impurity_decrease=0.09, min_samples_leaf=5, min_samples_split=6, n_estimators=300; total time=   0.4s\n",
      "[CV] END max_depth=10, min_impurity_decrease=0.09, min_samples_leaf=5, min_samples_split=6, n_estimators=300; total time=   0.4s\n",
      "[CV] END max_depth=25, min_impurity_decrease=0.05, min_samples_leaf=2, min_samples_split=8, n_estimators=800; total time=   1.1s\n",
      "[CV] END max_depth=25, min_impurity_decrease=0.05, min_samples_leaf=2, min_samples_split=8, n_estimators=800; total time=   1.2s\n",
      "[CV] END max_depth=25, min_impurity_decrease=0.05, min_samples_leaf=2, min_samples_split=8, n_estimators=800; total time=   1.1s\n",
      "[CV] END max_depth=25, min_impurity_decrease=0.05, min_samples_leaf=2, min_samples_split=8, n_estimators=800; total time=   1.2s\n",
      "[CV] END max_depth=25, min_impurity_decrease=0.05, min_samples_leaf=2, min_samples_split=8, n_estimators=800; total time=   1.2s\n",
      "[CV] END max_depth=None, min_impurity_decrease=0.02, min_samples_leaf=9, min_samples_split=5, n_estimators=100; total time=   0.2s\n",
      "[CV] END max_depth=None, min_impurity_decrease=0.02, min_samples_leaf=9, min_samples_split=5, n_estimators=100; total time=   0.2s\n",
      "[CV] END max_depth=None, min_impurity_decrease=0.02, min_samples_leaf=9, min_samples_split=5, n_estimators=100; total time=   0.2s\n",
      "[CV] END max_depth=None, min_impurity_decrease=0.02, min_samples_leaf=9, min_samples_split=5, n_estimators=100; total time=   0.2s\n",
      "[CV] END max_depth=None, min_impurity_decrease=0.02, min_samples_leaf=9, min_samples_split=5, n_estimators=100; total time=   0.2s\n",
      "[CV] END max_depth=None, min_impurity_decrease=0.01, min_samples_leaf=9, min_samples_split=6, n_estimators=800; total time=   1.8s\n",
      "[CV] END max_depth=None, min_impurity_decrease=0.01, min_samples_leaf=9, min_samples_split=6, n_estimators=800; total time=   1.8s\n",
      "[CV] END max_depth=None, min_impurity_decrease=0.01, min_samples_leaf=9, min_samples_split=6, n_estimators=800; total time=   1.8s\n",
      "[CV] END max_depth=None, min_impurity_decrease=0.01, min_samples_leaf=9, min_samples_split=6, n_estimators=800; total time=   1.8s\n",
      "[CV] END max_depth=None, min_impurity_decrease=0.01, min_samples_leaf=9, min_samples_split=6, n_estimators=800; total time=   1.8s\n",
      "[CV] END max_depth=20, min_impurity_decrease=0.08, min_samples_leaf=7, min_samples_split=3, n_estimators=700; total time=   0.8s\n",
      "[CV] END max_depth=20, min_impurity_decrease=0.08, min_samples_leaf=7, min_samples_split=3, n_estimators=700; total time=   0.8s\n",
      "[CV] END max_depth=20, min_impurity_decrease=0.08, min_samples_leaf=7, min_samples_split=3, n_estimators=700; total time=   0.9s\n",
      "[CV] END max_depth=20, min_impurity_decrease=0.08, min_samples_leaf=7, min_samples_split=3, n_estimators=700; total time=   0.9s\n",
      "[CV] END max_depth=20, min_impurity_decrease=0.08, min_samples_leaf=7, min_samples_split=3, n_estimators=700; total time=   0.9s\n",
      "[CV] END max_depth=5, min_impurity_decrease=0.07, min_samples_leaf=6, min_samples_split=4, n_estimators=100; total time=   0.1s\n",
      "[CV] END max_depth=5, min_impurity_decrease=0.07, min_samples_leaf=6, min_samples_split=4, n_estimators=100; total time=   0.1s\n",
      "[CV] END max_depth=5, min_impurity_decrease=0.07, min_samples_leaf=6, min_samples_split=4, n_estimators=100; total time=   0.1s\n",
      "[CV] END max_depth=5, min_impurity_decrease=0.07, min_samples_leaf=6, min_samples_split=4, n_estimators=100; total time=   0.1s\n",
      "[CV] END max_depth=5, min_impurity_decrease=0.07, min_samples_leaf=6, min_samples_split=4, n_estimators=100; total time=   0.1s\n",
      "[CV] END max_depth=None, min_impurity_decrease=0.05, min_samples_leaf=5, min_samples_split=5, n_estimators=200; total time=   0.3s\n",
      "[CV] END max_depth=None, min_impurity_decrease=0.05, min_samples_leaf=5, min_samples_split=5, n_estimators=200; total time=   0.3s\n",
      "[CV] END max_depth=None, min_impurity_decrease=0.05, min_samples_leaf=5, min_samples_split=5, n_estimators=200; total time=   0.3s\n",
      "[CV] END max_depth=None, min_impurity_decrease=0.05, min_samples_leaf=5, min_samples_split=5, n_estimators=200; total time=   0.3s\n",
      "[CV] END max_depth=None, min_impurity_decrease=0.05, min_samples_leaf=5, min_samples_split=5, n_estimators=200; total time=   0.3s\n",
      "[CV] END max_depth=None, min_impurity_decrease=0.06, min_samples_leaf=1, min_samples_split=2, n_estimators=300; total time=   0.4s\n",
      "[CV] END max_depth=None, min_impurity_decrease=0.06, min_samples_leaf=1, min_samples_split=2, n_estimators=300; total time=   0.4s\n",
      "[CV] END max_depth=None, min_impurity_decrease=0.06, min_samples_leaf=1, min_samples_split=2, n_estimators=300; total time=   0.4s\n",
      "[CV] END max_depth=None, min_impurity_decrease=0.06, min_samples_leaf=1, min_samples_split=2, n_estimators=300; total time=   0.4s\n",
      "[CV] END max_depth=None, min_impurity_decrease=0.06, min_samples_leaf=1, min_samples_split=2, n_estimators=300; total time=   0.4s\n",
      "[CV] END max_depth=20, min_impurity_decrease=0.07, min_samples_leaf=4, min_samples_split=9, n_estimators=600; total time=   0.8s\n",
      "[CV] END max_depth=20, min_impurity_decrease=0.07, min_samples_leaf=4, min_samples_split=9, n_estimators=600; total time=   0.8s\n",
      "[CV] END max_depth=20, min_impurity_decrease=0.07, min_samples_leaf=4, min_samples_split=9, n_estimators=600; total time=   0.8s\n",
      "[CV] END max_depth=20, min_impurity_decrease=0.07, min_samples_leaf=4, min_samples_split=9, n_estimators=600; total time=   0.8s\n",
      "[CV] END max_depth=20, min_impurity_decrease=0.07, min_samples_leaf=4, min_samples_split=9, n_estimators=600; total time=   0.8s\n",
      "[CV] END max_depth=10, min_impurity_decrease=0.02, min_samples_leaf=4, min_samples_split=5, n_estimators=400; total time=   0.8s\n",
      "[CV] END max_depth=10, min_impurity_decrease=0.02, min_samples_leaf=4, min_samples_split=5, n_estimators=400; total time=   0.8s\n",
      "[CV] END max_depth=10, min_impurity_decrease=0.02, min_samples_leaf=4, min_samples_split=5, n_estimators=400; total time=   0.8s\n",
      "[CV] END max_depth=10, min_impurity_decrease=0.02, min_samples_leaf=4, min_samples_split=5, n_estimators=400; total time=   0.8s\n",
      "[CV] END max_depth=10, min_impurity_decrease=0.02, min_samples_leaf=4, min_samples_split=5, n_estimators=400; total time=   0.8s\n",
      "[CV] END max_depth=15, min_impurity_decrease=0.03, min_samples_leaf=6, min_samples_split=5, n_estimators=700; total time=   1.2s\n",
      "[CV] END max_depth=15, min_impurity_decrease=0.03, min_samples_leaf=6, min_samples_split=5, n_estimators=700; total time=   1.2s\n",
      "[CV] END max_depth=15, min_impurity_decrease=0.03, min_samples_leaf=6, min_samples_split=5, n_estimators=700; total time=   1.3s\n",
      "[CV] END max_depth=15, min_impurity_decrease=0.03, min_samples_leaf=6, min_samples_split=5, n_estimators=700; total time=   1.2s\n",
      "[CV] END max_depth=15, min_impurity_decrease=0.03, min_samples_leaf=6, min_samples_split=5, n_estimators=700; total time=   1.2s\n",
      "[CV] END max_depth=5, min_impurity_decrease=0.06, min_samples_leaf=4, min_samples_split=6, n_estimators=800; total time=   1.0s\n",
      "[CV] END max_depth=5, min_impurity_decrease=0.06, min_samples_leaf=4, min_samples_split=6, n_estimators=800; total time=   1.0s\n",
      "[CV] END max_depth=5, min_impurity_decrease=0.06, min_samples_leaf=4, min_samples_split=6, n_estimators=800; total time=   1.1s\n",
      "[CV] END max_depth=5, min_impurity_decrease=0.06, min_samples_leaf=4, min_samples_split=6, n_estimators=800; total time=   1.1s\n",
      "[CV] END max_depth=5, min_impurity_decrease=0.06, min_samples_leaf=4, min_samples_split=6, n_estimators=800; total time=   1.1s\n",
      "[CV] END max_depth=5, min_impurity_decrease=0.03, min_samples_leaf=6, min_samples_split=2, n_estimators=900; total time=   1.5s\n",
      "[CV] END max_depth=5, min_impurity_decrease=0.03, min_samples_leaf=6, min_samples_split=2, n_estimators=900; total time=   1.5s\n",
      "[CV] END max_depth=5, min_impurity_decrease=0.03, min_samples_leaf=6, min_samples_split=2, n_estimators=900; total time=   1.5s\n",
      "[CV] END max_depth=5, min_impurity_decrease=0.03, min_samples_leaf=6, min_samples_split=2, n_estimators=900; total time=   1.5s\n",
      "[CV] END max_depth=5, min_impurity_decrease=0.03, min_samples_leaf=6, min_samples_split=2, n_estimators=900; total time=   1.5s\n",
      "[CV] END max_depth=5, min_impurity_decrease=0.03, min_samples_leaf=1, min_samples_split=3, n_estimators=100; total time=   0.2s\n",
      "[CV] END max_depth=5, min_impurity_decrease=0.03, min_samples_leaf=1, min_samples_split=3, n_estimators=100; total time=   0.2s\n",
      "[CV] END max_depth=5, min_impurity_decrease=0.03, min_samples_leaf=1, min_samples_split=3, n_estimators=100; total time=   0.2s\n",
      "[CV] END max_depth=5, min_impurity_decrease=0.03, min_samples_leaf=1, min_samples_split=3, n_estimators=100; total time=   0.2s\n",
      "[CV] END max_depth=5, min_impurity_decrease=0.03, min_samples_leaf=1, min_samples_split=3, n_estimators=100; total time=   0.2s\n",
      "[CV] END max_depth=5, min_impurity_decrease=0.07, min_samples_leaf=1, min_samples_split=2, n_estimators=100; total time=   0.1s\n",
      "[CV] END max_depth=5, min_impurity_decrease=0.07, min_samples_leaf=1, min_samples_split=2, n_estimators=100; total time=   0.1s\n",
      "[CV] END max_depth=5, min_impurity_decrease=0.07, min_samples_leaf=1, min_samples_split=2, n_estimators=100; total time=   0.1s\n",
      "[CV] END max_depth=5, min_impurity_decrease=0.07, min_samples_leaf=1, min_samples_split=2, n_estimators=100; total time=   0.1s\n",
      "[CV] END max_depth=5, min_impurity_decrease=0.07, min_samples_leaf=1, min_samples_split=2, n_estimators=100; total time=   0.1s\n",
      "[CV] END max_depth=15, min_impurity_decrease=0.06, min_samples_leaf=8, min_samples_split=9, n_estimators=300; total time=   0.4s\n",
      "[CV] END max_depth=15, min_impurity_decrease=0.06, min_samples_leaf=8, min_samples_split=9, n_estimators=300; total time=   0.4s\n",
      "[CV] END max_depth=15, min_impurity_decrease=0.06, min_samples_leaf=8, min_samples_split=9, n_estimators=300; total time=   0.4s\n",
      "[CV] END max_depth=15, min_impurity_decrease=0.06, min_samples_leaf=8, min_samples_split=9, n_estimators=300; total time=   0.4s\n",
      "[CV] END max_depth=15, min_impurity_decrease=0.06, min_samples_leaf=8, min_samples_split=9, n_estimators=300; total time=   0.4s\n",
      "[CV] END max_depth=None, min_impurity_decrease=0.04, min_samples_leaf=1, min_samples_split=4, n_estimators=300; total time=   0.5s\n",
      "[CV] END max_depth=None, min_impurity_decrease=0.04, min_samples_leaf=1, min_samples_split=4, n_estimators=300; total time=   0.5s\n",
      "[CV] END max_depth=None, min_impurity_decrease=0.04, min_samples_leaf=1, min_samples_split=4, n_estimators=300; total time=   0.5s\n",
      "[CV] END max_depth=None, min_impurity_decrease=0.04, min_samples_leaf=1, min_samples_split=4, n_estimators=300; total time=   0.5s\n",
      "[CV] END max_depth=None, min_impurity_decrease=0.04, min_samples_leaf=1, min_samples_split=4, n_estimators=300; total time=   0.5s\n",
      "[CV] END max_depth=15, min_impurity_decrease=0.06, min_samples_leaf=3, min_samples_split=3, n_estimators=300; total time=   0.4s\n",
      "[CV] END max_depth=15, min_impurity_decrease=0.06, min_samples_leaf=3, min_samples_split=3, n_estimators=300; total time=   0.4s\n",
      "[CV] END max_depth=15, min_impurity_decrease=0.06, min_samples_leaf=3, min_samples_split=3, n_estimators=300; total time=   0.4s\n",
      "[CV] END max_depth=15, min_impurity_decrease=0.06, min_samples_leaf=3, min_samples_split=3, n_estimators=300; total time=   0.4s\n",
      "[CV] END max_depth=15, min_impurity_decrease=0.06, min_samples_leaf=3, min_samples_split=3, n_estimators=300; total time=   0.4s\n",
      "[CV] END max_depth=10, min_impurity_decrease=0.06, min_samples_leaf=5, min_samples_split=4, n_estimators=600; total time=   0.8s\n",
      "[CV] END max_depth=10, min_impurity_decrease=0.06, min_samples_leaf=5, min_samples_split=4, n_estimators=600; total time=   0.8s\n",
      "[CV] END max_depth=10, min_impurity_decrease=0.06, min_samples_leaf=5, min_samples_split=4, n_estimators=600; total time=   0.8s\n",
      "[CV] END max_depth=10, min_impurity_decrease=0.06, min_samples_leaf=5, min_samples_split=4, n_estimators=600; total time=   0.8s\n",
      "[CV] END max_depth=10, min_impurity_decrease=0.06, min_samples_leaf=5, min_samples_split=4, n_estimators=600; total time=   0.8s\n",
      "[CV] END max_depth=10, min_impurity_decrease=0.02, min_samples_leaf=4, min_samples_split=9, n_estimators=700; total time=   1.4s\n",
      "[CV] END max_depth=10, min_impurity_decrease=0.02, min_samples_leaf=4, min_samples_split=9, n_estimators=700; total time=   1.4s\n",
      "[CV] END max_depth=10, min_impurity_decrease=0.02, min_samples_leaf=4, min_samples_split=9, n_estimators=700; total time=   1.4s\n",
      "[CV] END max_depth=10, min_impurity_decrease=0.02, min_samples_leaf=4, min_samples_split=9, n_estimators=700; total time=   1.4s\n",
      "[CV] END max_depth=10, min_impurity_decrease=0.02, min_samples_leaf=4, min_samples_split=9, n_estimators=700; total time=   1.4s\n",
      "[CV] END max_depth=25, min_impurity_decrease=0.05, min_samples_leaf=4, min_samples_split=9, n_estimators=200; total time=   0.3s\n",
      "[CV] END max_depth=25, min_impurity_decrease=0.05, min_samples_leaf=4, min_samples_split=9, n_estimators=200; total time=   0.3s\n",
      "[CV] END max_depth=25, min_impurity_decrease=0.05, min_samples_leaf=4, min_samples_split=9, n_estimators=200; total time=   0.3s\n",
      "[CV] END max_depth=25, min_impurity_decrease=0.05, min_samples_leaf=4, min_samples_split=9, n_estimators=200; total time=   0.3s\n",
      "[CV] END max_depth=25, min_impurity_decrease=0.05, min_samples_leaf=4, min_samples_split=9, n_estimators=200; total time=   0.3s\n",
      "[CV] END max_depth=20, min_impurity_decrease=0.0, min_samples_leaf=9, min_samples_split=5, n_estimators=900; total time=   2.2s\n",
      "[CV] END max_depth=20, min_impurity_decrease=0.0, min_samples_leaf=9, min_samples_split=5, n_estimators=900; total time=   2.3s\n",
      "[CV] END max_depth=20, min_impurity_decrease=0.0, min_samples_leaf=9, min_samples_split=5, n_estimators=900; total time=   2.3s\n",
      "[CV] END max_depth=20, min_impurity_decrease=0.0, min_samples_leaf=9, min_samples_split=5, n_estimators=900; total time=   2.2s\n",
      "[CV] END max_depth=20, min_impurity_decrease=0.0, min_samples_leaf=9, min_samples_split=5, n_estimators=900; total time=   2.2s\n",
      "[CV] END max_depth=None, min_impurity_decrease=0.02, min_samples_leaf=5, min_samples_split=2, n_estimators=200; total time=   0.4s\n",
      "[CV] END max_depth=None, min_impurity_decrease=0.02, min_samples_leaf=5, min_samples_split=2, n_estimators=200; total time=   0.4s\n",
      "[CV] END max_depth=None, min_impurity_decrease=0.02, min_samples_leaf=5, min_samples_split=2, n_estimators=200; total time=   0.4s\n",
      "[CV] END max_depth=None, min_impurity_decrease=0.02, min_samples_leaf=5, min_samples_split=2, n_estimators=200; total time=   0.4s\n",
      "[CV] END max_depth=None, min_impurity_decrease=0.02, min_samples_leaf=5, min_samples_split=2, n_estimators=200; total time=   0.4s\n",
      "[CV] END max_depth=None, min_impurity_decrease=0.06, min_samples_leaf=1, min_samples_split=8, n_estimators=200; total time=   0.3s\n",
      "[CV] END max_depth=None, min_impurity_decrease=0.06, min_samples_leaf=1, min_samples_split=8, n_estimators=200; total time=   0.3s\n",
      "[CV] END max_depth=None, min_impurity_decrease=0.06, min_samples_leaf=1, min_samples_split=8, n_estimators=200; total time=   0.3s\n",
      "[CV] END max_depth=None, min_impurity_decrease=0.06, min_samples_leaf=1, min_samples_split=8, n_estimators=200; total time=   0.3s\n",
      "[CV] END max_depth=None, min_impurity_decrease=0.06, min_samples_leaf=1, min_samples_split=8, n_estimators=200; total time=   0.3s\n",
      "[CV] END max_depth=15, min_impurity_decrease=0.06, min_samples_leaf=9, min_samples_split=5, n_estimators=900; total time=   1.2s\n",
      "[CV] END max_depth=15, min_impurity_decrease=0.06, min_samples_leaf=9, min_samples_split=5, n_estimators=900; total time=   1.2s\n",
      "[CV] END max_depth=15, min_impurity_decrease=0.06, min_samples_leaf=9, min_samples_split=5, n_estimators=900; total time=   1.2s\n",
      "[CV] END max_depth=15, min_impurity_decrease=0.06, min_samples_leaf=9, min_samples_split=5, n_estimators=900; total time=   1.2s\n",
      "[CV] END max_depth=15, min_impurity_decrease=0.06, min_samples_leaf=9, min_samples_split=5, n_estimators=900; total time=   1.2s\n",
      "[CV] END max_depth=15, min_impurity_decrease=0.0, min_samples_leaf=1, min_samples_split=3, n_estimators=900; total time=   3.1s\n",
      "[CV] END max_depth=15, min_impurity_decrease=0.0, min_samples_leaf=1, min_samples_split=3, n_estimators=900; total time=   3.0s\n",
      "[CV] END max_depth=15, min_impurity_decrease=0.0, min_samples_leaf=1, min_samples_split=3, n_estimators=900; total time=   3.0s\n",
      "[CV] END max_depth=15, min_impurity_decrease=0.0, min_samples_leaf=1, min_samples_split=3, n_estimators=900; total time=   3.0s\n",
      "[CV] END max_depth=15, min_impurity_decrease=0.0, min_samples_leaf=1, min_samples_split=3, n_estimators=900; total time=   3.0s\n",
      "[CV] END max_depth=None, min_impurity_decrease=0.01, min_samples_leaf=6, min_samples_split=3, n_estimators=500; total time=   1.2s\n",
      "[CV] END max_depth=None, min_impurity_decrease=0.01, min_samples_leaf=6, min_samples_split=3, n_estimators=500; total time=   1.2s\n",
      "[CV] END max_depth=None, min_impurity_decrease=0.01, min_samples_leaf=6, min_samples_split=3, n_estimators=500; total time=   1.2s\n",
      "[CV] END max_depth=None, min_impurity_decrease=0.01, min_samples_leaf=6, min_samples_split=3, n_estimators=500; total time=   1.2s\n",
      "[CV] END max_depth=None, min_impurity_decrease=0.01, min_samples_leaf=6, min_samples_split=3, n_estimators=500; total time=   1.1s\n",
      "[CV] END max_depth=5, min_impurity_decrease=0.07, min_samples_leaf=9, min_samples_split=8, n_estimators=800; total time=   1.0s\n",
      "[CV] END max_depth=5, min_impurity_decrease=0.07, min_samples_leaf=9, min_samples_split=8, n_estimators=800; total time=   1.0s\n",
      "[CV] END max_depth=5, min_impurity_decrease=0.07, min_samples_leaf=9, min_samples_split=8, n_estimators=800; total time=   1.0s\n",
      "[CV] END max_depth=5, min_impurity_decrease=0.07, min_samples_leaf=9, min_samples_split=8, n_estimators=800; total time=   1.0s\n",
      "[CV] END max_depth=5, min_impurity_decrease=0.07, min_samples_leaf=9, min_samples_split=8, n_estimators=800; total time=   1.0s\n",
      "[CV] END max_depth=10, min_impurity_decrease=0.0, min_samples_leaf=7, min_samples_split=4, n_estimators=800; total time=   2.1s\n",
      "[CV] END max_depth=10, min_impurity_decrease=0.0, min_samples_leaf=7, min_samples_split=4, n_estimators=800; total time=   2.1s\n",
      "[CV] END max_depth=10, min_impurity_decrease=0.0, min_samples_leaf=7, min_samples_split=4, n_estimators=800; total time=   2.1s\n",
      "[CV] END max_depth=10, min_impurity_decrease=0.0, min_samples_leaf=7, min_samples_split=4, n_estimators=800; total time=   2.1s\n",
      "[CV] END max_depth=10, min_impurity_decrease=0.0, min_samples_leaf=7, min_samples_split=4, n_estimators=800; total time=   2.0s\n",
      "[CV] END max_depth=5, min_impurity_decrease=0.04, min_samples_leaf=9, min_samples_split=6, n_estimators=900; total time=   1.4s\n",
      "[CV] END max_depth=5, min_impurity_decrease=0.04, min_samples_leaf=9, min_samples_split=6, n_estimators=900; total time=   1.4s\n",
      "[CV] END max_depth=5, min_impurity_decrease=0.04, min_samples_leaf=9, min_samples_split=6, n_estimators=900; total time=   1.4s\n",
      "[CV] END max_depth=5, min_impurity_decrease=0.04, min_samples_leaf=9, min_samples_split=6, n_estimators=900; total time=   1.4s\n",
      "[CV] END max_depth=5, min_impurity_decrease=0.04, min_samples_leaf=9, min_samples_split=6, n_estimators=900; total time=   1.4s\n",
      "[CV] END max_depth=5, min_impurity_decrease=0.0, min_samples_leaf=6, min_samples_split=5, n_estimators=700; total time=   1.6s\n",
      "[CV] END max_depth=5, min_impurity_decrease=0.0, min_samples_leaf=6, min_samples_split=5, n_estimators=700; total time=   1.6s\n",
      "[CV] END max_depth=5, min_impurity_decrease=0.0, min_samples_leaf=6, min_samples_split=5, n_estimators=700; total time=   1.6s\n",
      "[CV] END max_depth=5, min_impurity_decrease=0.0, min_samples_leaf=6, min_samples_split=5, n_estimators=700; total time=   1.6s\n",
      "[CV] END max_depth=5, min_impurity_decrease=0.0, min_samples_leaf=6, min_samples_split=5, n_estimators=700; total time=   1.6s\n",
      "[CV] END max_depth=None, min_impurity_decrease=0.08, min_samples_leaf=7, min_samples_split=8, n_estimators=600; total time=   0.7s\n",
      "[CV] END max_depth=None, min_impurity_decrease=0.08, min_samples_leaf=7, min_samples_split=8, n_estimators=600; total time=   0.7s\n",
      "[CV] END max_depth=None, min_impurity_decrease=0.08, min_samples_leaf=7, min_samples_split=8, n_estimators=600; total time=   0.7s\n",
      "[CV] END max_depth=None, min_impurity_decrease=0.08, min_samples_leaf=7, min_samples_split=8, n_estimators=600; total time=   0.7s\n",
      "[CV] END max_depth=None, min_impurity_decrease=0.08, min_samples_leaf=7, min_samples_split=8, n_estimators=600; total time=   0.7s\n",
      "[CV] END max_depth=None, min_impurity_decrease=0.0, min_samples_leaf=3, min_samples_split=3, n_estimators=900; total time=   2.7s\n",
      "[CV] END max_depth=None, min_impurity_decrease=0.0, min_samples_leaf=3, min_samples_split=3, n_estimators=900; total time=   2.6s\n",
      "[CV] END max_depth=None, min_impurity_decrease=0.0, min_samples_leaf=3, min_samples_split=3, n_estimators=900; total time=   2.7s\n",
      "[CV] END max_depth=None, min_impurity_decrease=0.0, min_samples_leaf=3, min_samples_split=3, n_estimators=900; total time=   2.7s\n",
      "[CV] END max_depth=None, min_impurity_decrease=0.0, min_samples_leaf=3, min_samples_split=3, n_estimators=900; total time=   2.6s\n",
      "[CV] END max_depth=25, min_impurity_decrease=0.07, min_samples_leaf=2, min_samples_split=8, n_estimators=400; total time=   0.5s\n",
      "[CV] END max_depth=25, min_impurity_decrease=0.07, min_samples_leaf=2, min_samples_split=8, n_estimators=400; total time=   0.5s\n",
      "[CV] END max_depth=25, min_impurity_decrease=0.07, min_samples_leaf=2, min_samples_split=8, n_estimators=400; total time=   0.5s\n",
      "[CV] END max_depth=25, min_impurity_decrease=0.07, min_samples_leaf=2, min_samples_split=8, n_estimators=400; total time=   0.5s\n",
      "[CV] END max_depth=25, min_impurity_decrease=0.07, min_samples_leaf=2, min_samples_split=8, n_estimators=400; total time=   0.5s\n",
      "[CV] END max_depth=20, min_impurity_decrease=0.0, min_samples_leaf=9, min_samples_split=8, n_estimators=800; total time=   2.0s\n",
      "[CV] END max_depth=20, min_impurity_decrease=0.0, min_samples_leaf=9, min_samples_split=8, n_estimators=800; total time=   1.9s\n",
      "[CV] END max_depth=20, min_impurity_decrease=0.0, min_samples_leaf=9, min_samples_split=8, n_estimators=800; total time=   2.0s\n",
      "[CV] END max_depth=20, min_impurity_decrease=0.0, min_samples_leaf=9, min_samples_split=8, n_estimators=800; total time=   2.0s\n",
      "[CV] END max_depth=20, min_impurity_decrease=0.0, min_samples_leaf=9, min_samples_split=8, n_estimators=800; total time=   2.0s\n",
      "[CV] END max_depth=25, min_impurity_decrease=0.02, min_samples_leaf=1, min_samples_split=9, n_estimators=500; total time=   1.0s\n",
      "[CV] END max_depth=25, min_impurity_decrease=0.02, min_samples_leaf=1, min_samples_split=9, n_estimators=500; total time=   1.1s\n",
      "[CV] END max_depth=25, min_impurity_decrease=0.02, min_samples_leaf=1, min_samples_split=9, n_estimators=500; total time=   1.0s\n",
      "[CV] END max_depth=25, min_impurity_decrease=0.02, min_samples_leaf=1, min_samples_split=9, n_estimators=500; total time=   1.0s\n",
      "[CV] END max_depth=25, min_impurity_decrease=0.02, min_samples_leaf=1, min_samples_split=9, n_estimators=500; total time=   1.0s\n",
      "[CV] END max_depth=25, min_impurity_decrease=0.0, min_samples_leaf=3, min_samples_split=8, n_estimators=900; total time=   2.7s\n",
      "[CV] END max_depth=25, min_impurity_decrease=0.0, min_samples_leaf=3, min_samples_split=8, n_estimators=900; total time=   2.7s\n",
      "[CV] END max_depth=25, min_impurity_decrease=0.0, min_samples_leaf=3, min_samples_split=8, n_estimators=900; total time=   2.7s\n",
      "[CV] END max_depth=25, min_impurity_decrease=0.0, min_samples_leaf=3, min_samples_split=8, n_estimators=900; total time=   2.7s\n",
      "[CV] END max_depth=25, min_impurity_decrease=0.0, min_samples_leaf=3, min_samples_split=8, n_estimators=900; total time=   2.6s\n",
      "[CV] END max_depth=5, min_impurity_decrease=0.07, min_samples_leaf=8, min_samples_split=3, n_estimators=600; total time=   0.8s\n",
      "[CV] END max_depth=5, min_impurity_decrease=0.07, min_samples_leaf=8, min_samples_split=3, n_estimators=600; total time=   0.7s\n",
      "[CV] END max_depth=5, min_impurity_decrease=0.07, min_samples_leaf=8, min_samples_split=3, n_estimators=600; total time=   0.7s\n",
      "[CV] END max_depth=5, min_impurity_decrease=0.07, min_samples_leaf=8, min_samples_split=3, n_estimators=600; total time=   0.8s\n",
      "[CV] END max_depth=5, min_impurity_decrease=0.07, min_samples_leaf=8, min_samples_split=3, n_estimators=600; total time=   0.8s\n",
      "[CV] END max_depth=20, min_impurity_decrease=0.04, min_samples_leaf=9, min_samples_split=6, n_estimators=400; total time=   0.6s\n",
      "[CV] END max_depth=20, min_impurity_decrease=0.04, min_samples_leaf=9, min_samples_split=6, n_estimators=400; total time=   0.6s\n",
      "[CV] END max_depth=20, min_impurity_decrease=0.04, min_samples_leaf=9, min_samples_split=6, n_estimators=400; total time=   0.6s\n",
      "[CV] END max_depth=20, min_impurity_decrease=0.04, min_samples_leaf=9, min_samples_split=6, n_estimators=400; total time=   0.6s\n",
      "[CV] END max_depth=20, min_impurity_decrease=0.04, min_samples_leaf=9, min_samples_split=6, n_estimators=400; total time=   0.6s\n",
      "[CV] END max_depth=15, min_impurity_decrease=0.09, min_samples_leaf=9, min_samples_split=2, n_estimators=400; total time=   0.5s\n",
      "[CV] END max_depth=15, min_impurity_decrease=0.09, min_samples_leaf=9, min_samples_split=2, n_estimators=400; total time=   0.5s\n",
      "[CV] END max_depth=15, min_impurity_decrease=0.09, min_samples_leaf=9, min_samples_split=2, n_estimators=400; total time=   0.5s\n",
      "[CV] END max_depth=15, min_impurity_decrease=0.09, min_samples_leaf=9, min_samples_split=2, n_estimators=400; total time=   0.5s\n",
      "[CV] END max_depth=15, min_impurity_decrease=0.09, min_samples_leaf=9, min_samples_split=2, n_estimators=400; total time=   0.5s\n",
      "[CV] END max_depth=None, min_impurity_decrease=0.01, min_samples_leaf=6, min_samples_split=2, n_estimators=900; total time=   2.1s\n",
      "[CV] END max_depth=None, min_impurity_decrease=0.01, min_samples_leaf=6, min_samples_split=2, n_estimators=900; total time=   2.1s\n",
      "[CV] END max_depth=None, min_impurity_decrease=0.01, min_samples_leaf=6, min_samples_split=2, n_estimators=900; total time=   2.1s\n",
      "[CV] END max_depth=None, min_impurity_decrease=0.01, min_samples_leaf=6, min_samples_split=2, n_estimators=900; total time=   2.1s\n",
      "[CV] END max_depth=None, min_impurity_decrease=0.01, min_samples_leaf=6, min_samples_split=2, n_estimators=900; total time=   2.1s\n",
      "[CV] END max_depth=15, min_impurity_decrease=0.07, min_samples_leaf=4, min_samples_split=8, n_estimators=800; total time=   1.0s\n",
      "[CV] END max_depth=15, min_impurity_decrease=0.07, min_samples_leaf=4, min_samples_split=8, n_estimators=800; total time=   1.1s\n",
      "[CV] END max_depth=15, min_impurity_decrease=0.07, min_samples_leaf=4, min_samples_split=8, n_estimators=800; total time=   1.1s\n",
      "[CV] END max_depth=15, min_impurity_decrease=0.07, min_samples_leaf=4, min_samples_split=8, n_estimators=800; total time=   1.1s\n",
      "[CV] END max_depth=15, min_impurity_decrease=0.07, min_samples_leaf=4, min_samples_split=8, n_estimators=800; total time=   1.0s\n",
      "[CV] END max_depth=15, min_impurity_decrease=0.07, min_samples_leaf=5, min_samples_split=3, n_estimators=400; total time=   0.5s\n",
      "[CV] END max_depth=15, min_impurity_decrease=0.07, min_samples_leaf=5, min_samples_split=3, n_estimators=400; total time=   0.6s\n",
      "[CV] END max_depth=15, min_impurity_decrease=0.07, min_samples_leaf=5, min_samples_split=3, n_estimators=400; total time=   0.5s\n",
      "[CV] END max_depth=15, min_impurity_decrease=0.07, min_samples_leaf=5, min_samples_split=3, n_estimators=400; total time=   0.6s\n",
      "[CV] END max_depth=15, min_impurity_decrease=0.07, min_samples_leaf=5, min_samples_split=3, n_estimators=400; total time=   0.6s\n",
      "[CV] END max_depth=15, min_impurity_decrease=0.05, min_samples_leaf=8, min_samples_split=9, n_estimators=100; total time=   0.2s\n",
      "[CV] END max_depth=15, min_impurity_decrease=0.05, min_samples_leaf=8, min_samples_split=9, n_estimators=100; total time=   0.2s\n",
      "[CV] END max_depth=15, min_impurity_decrease=0.05, min_samples_leaf=8, min_samples_split=9, n_estimators=100; total time=   0.1s\n",
      "[CV] END max_depth=15, min_impurity_decrease=0.05, min_samples_leaf=8, min_samples_split=9, n_estimators=100; total time=   0.2s\n",
      "[CV] END max_depth=15, min_impurity_decrease=0.05, min_samples_leaf=8, min_samples_split=9, n_estimators=100; total time=   0.2s\n",
      "[CV] END max_depth=15, min_impurity_decrease=0.07, min_samples_leaf=5, min_samples_split=6, n_estimators=100; total time=   0.1s\n",
      "[CV] END max_depth=15, min_impurity_decrease=0.07, min_samples_leaf=5, min_samples_split=6, n_estimators=100; total time=   0.1s\n",
      "[CV] END max_depth=15, min_impurity_decrease=0.07, min_samples_leaf=5, min_samples_split=6, n_estimators=100; total time=   0.1s\n",
      "[CV] END max_depth=15, min_impurity_decrease=0.07, min_samples_leaf=5, min_samples_split=6, n_estimators=100; total time=   0.1s\n",
      "[CV] END max_depth=15, min_impurity_decrease=0.07, min_samples_leaf=5, min_samples_split=6, n_estimators=100; total time=   0.1s\n",
      "[CV] END max_depth=5, min_impurity_decrease=0.03, min_samples_leaf=2, min_samples_split=5, n_estimators=700; total time=   1.2s\n",
      "[CV] END max_depth=5, min_impurity_decrease=0.03, min_samples_leaf=2, min_samples_split=5, n_estimators=700; total time=   1.2s\n",
      "[CV] END max_depth=5, min_impurity_decrease=0.03, min_samples_leaf=2, min_samples_split=5, n_estimators=700; total time=   1.2s\n",
      "[CV] END max_depth=5, min_impurity_decrease=0.03, min_samples_leaf=2, min_samples_split=5, n_estimators=700; total time=   1.2s\n",
      "[CV] END max_depth=5, min_impurity_decrease=0.03, min_samples_leaf=2, min_samples_split=5, n_estimators=700; total time=   1.2s\n",
      "[CV] END max_depth=10, min_impurity_decrease=0.06, min_samples_leaf=6, min_samples_split=8, n_estimators=100; total time=   0.1s\n",
      "[CV] END max_depth=10, min_impurity_decrease=0.06, min_samples_leaf=6, min_samples_split=8, n_estimators=100; total time=   0.1s\n",
      "[CV] END max_depth=10, min_impurity_decrease=0.06, min_samples_leaf=6, min_samples_split=8, n_estimators=100; total time=   0.1s\n",
      "[CV] END max_depth=10, min_impurity_decrease=0.06, min_samples_leaf=6, min_samples_split=8, n_estimators=100; total time=   0.1s\n",
      "[CV] END max_depth=10, min_impurity_decrease=0.06, min_samples_leaf=6, min_samples_split=8, n_estimators=100; total time=   0.1s\n",
      "[CV] END max_depth=5, min_impurity_decrease=0.04, min_samples_leaf=3, min_samples_split=7, n_estimators=800; total time=   1.2s\n",
      "[CV] END max_depth=5, min_impurity_decrease=0.04, min_samples_leaf=3, min_samples_split=7, n_estimators=800; total time=   1.3s\n",
      "[CV] END max_depth=5, min_impurity_decrease=0.04, min_samples_leaf=3, min_samples_split=7, n_estimators=800; total time=   1.2s\n",
      "[CV] END max_depth=5, min_impurity_decrease=0.04, min_samples_leaf=3, min_samples_split=7, n_estimators=800; total time=   1.3s\n",
      "[CV] END max_depth=5, min_impurity_decrease=0.04, min_samples_leaf=3, min_samples_split=7, n_estimators=800; total time=   1.3s\n",
      "[CV] END max_depth=15, min_impurity_decrease=0.02, min_samples_leaf=8, min_samples_split=5, n_estimators=500; total time=   1.0s\n",
      "[CV] END max_depth=15, min_impurity_decrease=0.02, min_samples_leaf=8, min_samples_split=5, n_estimators=500; total time=   1.0s\n",
      "[CV] END max_depth=15, min_impurity_decrease=0.02, min_samples_leaf=8, min_samples_split=5, n_estimators=500; total time=   1.0s\n",
      "[CV] END max_depth=15, min_impurity_decrease=0.02, min_samples_leaf=8, min_samples_split=5, n_estimators=500; total time=   1.0s\n",
      "[CV] END max_depth=15, min_impurity_decrease=0.02, min_samples_leaf=8, min_samples_split=5, n_estimators=500; total time=   1.0s\n",
      "[CV] END max_depth=5, min_impurity_decrease=0.08, min_samples_leaf=8, min_samples_split=3, n_estimators=900; total time=   1.1s\n",
      "[CV] END max_depth=5, min_impurity_decrease=0.08, min_samples_leaf=8, min_samples_split=3, n_estimators=900; total time=   1.1s\n",
      "[CV] END max_depth=5, min_impurity_decrease=0.08, min_samples_leaf=8, min_samples_split=3, n_estimators=900; total time=   1.1s\n",
      "[CV] END max_depth=5, min_impurity_decrease=0.08, min_samples_leaf=8, min_samples_split=3, n_estimators=900; total time=   1.1s\n",
      "[CV] END max_depth=5, min_impurity_decrease=0.08, min_samples_leaf=8, min_samples_split=3, n_estimators=900; total time=   1.1s\n",
      "[CV] END max_depth=15, min_impurity_decrease=0.02, min_samples_leaf=8, min_samples_split=2, n_estimators=400; total time=   0.8s\n",
      "[CV] END max_depth=15, min_impurity_decrease=0.02, min_samples_leaf=8, min_samples_split=2, n_estimators=400; total time=   0.8s\n",
      "[CV] END max_depth=15, min_impurity_decrease=0.02, min_samples_leaf=8, min_samples_split=2, n_estimators=400; total time=   0.8s\n",
      "[CV] END max_depth=15, min_impurity_decrease=0.02, min_samples_leaf=8, min_samples_split=2, n_estimators=400; total time=   0.8s\n",
      "[CV] END max_depth=15, min_impurity_decrease=0.02, min_samples_leaf=8, min_samples_split=2, n_estimators=400; total time=   0.8s\n",
      "[CV] END max_depth=5, min_impurity_decrease=0.03, min_samples_leaf=3, min_samples_split=2, n_estimators=400; total time=   0.7s\n",
      "[CV] END max_depth=5, min_impurity_decrease=0.03, min_samples_leaf=3, min_samples_split=2, n_estimators=400; total time=   0.7s\n",
      "[CV] END max_depth=5, min_impurity_decrease=0.03, min_samples_leaf=3, min_samples_split=2, n_estimators=400; total time=   0.7s\n",
      "[CV] END max_depth=5, min_impurity_decrease=0.03, min_samples_leaf=3, min_samples_split=2, n_estimators=400; total time=   0.7s\n",
      "[CV] END max_depth=5, min_impurity_decrease=0.03, min_samples_leaf=3, min_samples_split=2, n_estimators=400; total time=   0.7s\n",
      "[CV] END max_depth=25, min_impurity_decrease=0.08, min_samples_leaf=7, min_samples_split=5, n_estimators=200; total time=   0.2s\n",
      "[CV] END max_depth=25, min_impurity_decrease=0.08, min_samples_leaf=7, min_samples_split=5, n_estimators=200; total time=   0.2s\n",
      "[CV] END max_depth=25, min_impurity_decrease=0.08, min_samples_leaf=7, min_samples_split=5, n_estimators=200; total time=   0.2s\n",
      "[CV] END max_depth=25, min_impurity_decrease=0.08, min_samples_leaf=7, min_samples_split=5, n_estimators=200; total time=   0.2s\n",
      "[CV] END max_depth=25, min_impurity_decrease=0.08, min_samples_leaf=7, min_samples_split=5, n_estimators=200; total time=   0.3s\n",
      "[CV] END max_depth=None, min_impurity_decrease=0.03, min_samples_leaf=9, min_samples_split=7, n_estimators=400; total time=   0.7s\n",
      "[CV] END max_depth=None, min_impurity_decrease=0.03, min_samples_leaf=9, min_samples_split=7, n_estimators=400; total time=   0.7s\n",
      "[CV] END max_depth=None, min_impurity_decrease=0.03, min_samples_leaf=9, min_samples_split=7, n_estimators=400; total time=   0.7s\n",
      "[CV] END max_depth=None, min_impurity_decrease=0.03, min_samples_leaf=9, min_samples_split=7, n_estimators=400; total time=   0.7s\n",
      "[CV] END max_depth=None, min_impurity_decrease=0.03, min_samples_leaf=9, min_samples_split=7, n_estimators=400; total time=   0.7s\n",
      "[CV] END max_depth=None, min_impurity_decrease=0.03, min_samples_leaf=2, min_samples_split=3, n_estimators=300; total time=   0.5s\n",
      "[CV] END max_depth=None, min_impurity_decrease=0.03, min_samples_leaf=2, min_samples_split=3, n_estimators=300; total time=   0.5s\n",
      "[CV] END max_depth=None, min_impurity_decrease=0.03, min_samples_leaf=2, min_samples_split=3, n_estimators=300; total time=   0.5s\n",
      "[CV] END max_depth=None, min_impurity_decrease=0.03, min_samples_leaf=2, min_samples_split=3, n_estimators=300; total time=   0.5s\n",
      "[CV] END max_depth=None, min_impurity_decrease=0.03, min_samples_leaf=2, min_samples_split=3, n_estimators=300; total time=   0.5s\n",
      "[CV] END max_depth=None, min_impurity_decrease=0.04, min_samples_leaf=2, min_samples_split=5, n_estimators=500; total time=   0.8s\n",
      "[CV] END max_depth=None, min_impurity_decrease=0.04, min_samples_leaf=2, min_samples_split=5, n_estimators=500; total time=   0.8s\n",
      "[CV] END max_depth=None, min_impurity_decrease=0.04, min_samples_leaf=2, min_samples_split=5, n_estimators=500; total time=   0.8s\n",
      "[CV] END max_depth=None, min_impurity_decrease=0.04, min_samples_leaf=2, min_samples_split=5, n_estimators=500; total time=   0.8s\n",
      "[CV] END max_depth=None, min_impurity_decrease=0.04, min_samples_leaf=2, min_samples_split=5, n_estimators=500; total time=   0.8s\n",
      "[CV] END max_depth=None, min_impurity_decrease=0.08, min_samples_leaf=2, min_samples_split=2, n_estimators=300; total time=   0.4s\n",
      "[CV] END max_depth=None, min_impurity_decrease=0.08, min_samples_leaf=2, min_samples_split=2, n_estimators=300; total time=   0.4s\n",
      "[CV] END max_depth=None, min_impurity_decrease=0.08, min_samples_leaf=2, min_samples_split=2, n_estimators=300; total time=   0.4s\n",
      "[CV] END max_depth=None, min_impurity_decrease=0.08, min_samples_leaf=2, min_samples_split=2, n_estimators=300; total time=   0.4s\n",
      "[CV] END max_depth=None, min_impurity_decrease=0.08, min_samples_leaf=2, min_samples_split=2, n_estimators=300; total time=   0.4s\n",
      "[CV] END max_depth=15, min_impurity_decrease=0.03, min_samples_leaf=9, min_samples_split=6, n_estimators=700; total time=   1.2s\n",
      "[CV] END max_depth=15, min_impurity_decrease=0.03, min_samples_leaf=9, min_samples_split=6, n_estimators=700; total time=   1.2s\n",
      "[CV] END max_depth=15, min_impurity_decrease=0.03, min_samples_leaf=9, min_samples_split=6, n_estimators=700; total time=   1.2s\n",
      "[CV] END max_depth=15, min_impurity_decrease=0.03, min_samples_leaf=9, min_samples_split=6, n_estimators=700; total time=   1.2s\n",
      "[CV] END max_depth=15, min_impurity_decrease=0.03, min_samples_leaf=9, min_samples_split=6, n_estimators=700; total time=   1.2s\n",
      "[CV] END max_depth=25, min_impurity_decrease=0.01, min_samples_leaf=2, min_samples_split=6, n_estimators=400; total time=   1.1s\n",
      "[CV] END max_depth=25, min_impurity_decrease=0.01, min_samples_leaf=2, min_samples_split=6, n_estimators=400; total time=   1.1s\n",
      "[CV] END max_depth=25, min_impurity_decrease=0.01, min_samples_leaf=2, min_samples_split=6, n_estimators=400; total time=   1.1s\n",
      "[CV] END max_depth=25, min_impurity_decrease=0.01, min_samples_leaf=2, min_samples_split=6, n_estimators=400; total time=   1.1s\n",
      "[CV] END max_depth=25, min_impurity_decrease=0.01, min_samples_leaf=2, min_samples_split=6, n_estimators=400; total time=   1.0s\n",
      "[CV] END max_depth=10, min_impurity_decrease=0.01, min_samples_leaf=6, min_samples_split=4, n_estimators=100; total time=   0.2s\n",
      "[CV] END max_depth=10, min_impurity_decrease=0.01, min_samples_leaf=6, min_samples_split=4, n_estimators=100; total time=   0.2s\n",
      "[CV] END max_depth=10, min_impurity_decrease=0.01, min_samples_leaf=6, min_samples_split=4, n_estimators=100; total time=   0.2s\n",
      "[CV] END max_depth=10, min_impurity_decrease=0.01, min_samples_leaf=6, min_samples_split=4, n_estimators=100; total time=   0.2s\n",
      "[CV] END max_depth=10, min_impurity_decrease=0.01, min_samples_leaf=6, min_samples_split=4, n_estimators=100; total time=   0.2s\n",
      "[CV] END max_depth=5, min_impurity_decrease=0.09, min_samples_leaf=5, min_samples_split=9, n_estimators=400; total time=   0.5s\n",
      "[CV] END max_depth=5, min_impurity_decrease=0.09, min_samples_leaf=5, min_samples_split=9, n_estimators=400; total time=   0.5s\n",
      "[CV] END max_depth=5, min_impurity_decrease=0.09, min_samples_leaf=5, min_samples_split=9, n_estimators=400; total time=   0.5s\n",
      "[CV] END max_depth=5, min_impurity_decrease=0.09, min_samples_leaf=5, min_samples_split=9, n_estimators=400; total time=   0.5s\n",
      "[CV] END max_depth=5, min_impurity_decrease=0.09, min_samples_leaf=5, min_samples_split=9, n_estimators=400; total time=   0.5s\n",
      "[CV] END max_depth=25, min_impurity_decrease=0.09, min_samples_leaf=6, min_samples_split=9, n_estimators=600; total time=   0.7s\n",
      "[CV] END max_depth=25, min_impurity_decrease=0.09, min_samples_leaf=6, min_samples_split=9, n_estimators=600; total time=   0.7s\n",
      "[CV] END max_depth=25, min_impurity_decrease=0.09, min_samples_leaf=6, min_samples_split=9, n_estimators=600; total time=   0.7s\n",
      "[CV] END max_depth=25, min_impurity_decrease=0.09, min_samples_leaf=6, min_samples_split=9, n_estimators=600; total time=   0.7s\n",
      "[CV] END max_depth=25, min_impurity_decrease=0.09, min_samples_leaf=6, min_samples_split=9, n_estimators=600; total time=   0.8s\n",
      "[CV] END max_depth=None, min_impurity_decrease=0.05, min_samples_leaf=5, min_samples_split=5, n_estimators=700; total time=   1.0s\n",
      "[CV] END max_depth=None, min_impurity_decrease=0.05, min_samples_leaf=5, min_samples_split=5, n_estimators=700; total time=   1.0s\n",
      "[CV] END max_depth=None, min_impurity_decrease=0.05, min_samples_leaf=5, min_samples_split=5, n_estimators=700; total time=   1.0s\n",
      "[CV] END max_depth=None, min_impurity_decrease=0.05, min_samples_leaf=5, min_samples_split=5, n_estimators=700; total time=   1.0s\n",
      "[CV] END max_depth=None, min_impurity_decrease=0.05, min_samples_leaf=5, min_samples_split=5, n_estimators=700; total time=   1.0s\n",
      "[CV] END max_depth=20, min_impurity_decrease=0.01, min_samples_leaf=4, min_samples_split=9, n_estimators=800; total time=   2.0s\n",
      "[CV] END max_depth=20, min_impurity_decrease=0.01, min_samples_leaf=4, min_samples_split=9, n_estimators=800; total time=   1.9s\n",
      "[CV] END max_depth=20, min_impurity_decrease=0.01, min_samples_leaf=4, min_samples_split=9, n_estimators=800; total time=   2.0s\n",
      "[CV] END max_depth=20, min_impurity_decrease=0.01, min_samples_leaf=4, min_samples_split=9, n_estimators=800; total time=   2.0s\n",
      "[CV] END max_depth=20, min_impurity_decrease=0.01, min_samples_leaf=4, min_samples_split=9, n_estimators=800; total time=   1.9s\n",
      "[CV] END max_depth=15, min_impurity_decrease=0.04, min_samples_leaf=9, min_samples_split=8, n_estimators=100; total time=   0.2s\n",
      "[CV] END max_depth=15, min_impurity_decrease=0.04, min_samples_leaf=9, min_samples_split=8, n_estimators=100; total time=   0.2s\n",
      "[CV] END max_depth=15, min_impurity_decrease=0.04, min_samples_leaf=9, min_samples_split=8, n_estimators=100; total time=   0.2s\n",
      "[CV] END max_depth=15, min_impurity_decrease=0.04, min_samples_leaf=9, min_samples_split=8, n_estimators=100; total time=   0.2s\n",
      "[CV] END max_depth=15, min_impurity_decrease=0.04, min_samples_leaf=9, min_samples_split=8, n_estimators=100; total time=   0.2s\n",
      "[CV] END max_depth=5, min_impurity_decrease=0.02, min_samples_leaf=9, min_samples_split=6, n_estimators=500; total time=   1.0s\n",
      "[CV] END max_depth=5, min_impurity_decrease=0.02, min_samples_leaf=9, min_samples_split=6, n_estimators=500; total time=   1.0s\n",
      "[CV] END max_depth=5, min_impurity_decrease=0.02, min_samples_leaf=9, min_samples_split=6, n_estimators=500; total time=   1.0s\n",
      "[CV] END max_depth=5, min_impurity_decrease=0.02, min_samples_leaf=9, min_samples_split=6, n_estimators=500; total time=   1.0s\n",
      "[CV] END max_depth=5, min_impurity_decrease=0.02, min_samples_leaf=9, min_samples_split=6, n_estimators=500; total time=   1.0s\n",
      "[CV] END max_depth=20, min_impurity_decrease=0.07, min_samples_leaf=2, min_samples_split=2, n_estimators=800; total time=   1.0s\n",
      "[CV] END max_depth=20, min_impurity_decrease=0.07, min_samples_leaf=2, min_samples_split=2, n_estimators=800; total time=   1.0s\n",
      "[CV] END max_depth=20, min_impurity_decrease=0.07, min_samples_leaf=2, min_samples_split=2, n_estimators=800; total time=   1.0s\n",
      "[CV] END max_depth=20, min_impurity_decrease=0.07, min_samples_leaf=2, min_samples_split=2, n_estimators=800; total time=   1.0s\n",
      "[CV] END max_depth=20, min_impurity_decrease=0.07, min_samples_leaf=2, min_samples_split=2, n_estimators=800; total time=   1.0s\n",
      "[CV] END max_depth=10, min_impurity_decrease=0.0, min_samples_leaf=2, min_samples_split=5, n_estimators=900; total time=   2.8s\n",
      "[CV] END max_depth=10, min_impurity_decrease=0.0, min_samples_leaf=2, min_samples_split=5, n_estimators=900; total time=   2.8s\n",
      "[CV] END max_depth=10, min_impurity_decrease=0.0, min_samples_leaf=2, min_samples_split=5, n_estimators=900; total time=   2.8s\n",
      "[CV] END max_depth=10, min_impurity_decrease=0.0, min_samples_leaf=2, min_samples_split=5, n_estimators=900; total time=   2.8s\n",
      "[CV] END max_depth=10, min_impurity_decrease=0.0, min_samples_leaf=2, min_samples_split=5, n_estimators=900; total time=   2.7s\n",
      "[CV] END max_depth=15, min_impurity_decrease=0.06, min_samples_leaf=4, min_samples_split=8, n_estimators=200; total time=   0.3s\n",
      "[CV] END max_depth=15, min_impurity_decrease=0.06, min_samples_leaf=4, min_samples_split=8, n_estimators=200; total time=   0.3s\n",
      "[CV] END max_depth=15, min_impurity_decrease=0.06, min_samples_leaf=4, min_samples_split=8, n_estimators=200; total time=   0.3s\n",
      "[CV] END max_depth=15, min_impurity_decrease=0.06, min_samples_leaf=4, min_samples_split=8, n_estimators=200; total time=   0.3s\n",
      "[CV] END max_depth=15, min_impurity_decrease=0.06, min_samples_leaf=4, min_samples_split=8, n_estimators=200; total time=   0.3s\n",
      "[CV] END max_depth=25, min_impurity_decrease=0.04, min_samples_leaf=4, min_samples_split=3, n_estimators=600; total time=   0.9s\n",
      "[CV] END max_depth=25, min_impurity_decrease=0.04, min_samples_leaf=4, min_samples_split=3, n_estimators=600; total time=   0.9s\n",
      "[CV] END max_depth=25, min_impurity_decrease=0.04, min_samples_leaf=4, min_samples_split=3, n_estimators=600; total time=   0.9s\n",
      "[CV] END max_depth=25, min_impurity_decrease=0.04, min_samples_leaf=4, min_samples_split=3, n_estimators=600; total time=   0.9s\n",
      "[CV] END max_depth=25, min_impurity_decrease=0.04, min_samples_leaf=4, min_samples_split=3, n_estimators=600; total time=   1.0s\n",
      "[CV] END max_depth=5, min_impurity_decrease=0.08, min_samples_leaf=3, min_samples_split=5, n_estimators=300; total time=   0.4s\n",
      "[CV] END max_depth=5, min_impurity_decrease=0.08, min_samples_leaf=3, min_samples_split=5, n_estimators=300; total time=   0.4s\n",
      "[CV] END max_depth=5, min_impurity_decrease=0.08, min_samples_leaf=3, min_samples_split=5, n_estimators=300; total time=   0.4s\n",
      "[CV] END max_depth=5, min_impurity_decrease=0.08, min_samples_leaf=3, min_samples_split=5, n_estimators=300; total time=   0.4s\n",
      "[CV] END max_depth=5, min_impurity_decrease=0.08, min_samples_leaf=3, min_samples_split=5, n_estimators=300; total time=   0.4s\n",
      "[CV] END max_depth=10, min_impurity_decrease=0.01, min_samples_leaf=6, min_samples_split=9, n_estimators=900; total time=   2.2s\n",
      "[CV] END max_depth=10, min_impurity_decrease=0.01, min_samples_leaf=6, min_samples_split=9, n_estimators=900; total time=   2.1s\n",
      "[CV] END max_depth=10, min_impurity_decrease=0.01, min_samples_leaf=6, min_samples_split=9, n_estimators=900; total time=   2.1s\n",
      "[CV] END max_depth=10, min_impurity_decrease=0.01, min_samples_leaf=6, min_samples_split=9, n_estimators=900; total time=   2.1s\n",
      "[CV] END max_depth=10, min_impurity_decrease=0.01, min_samples_leaf=6, min_samples_split=9, n_estimators=900; total time=   2.1s\n",
      "[CV] END max_depth=20, min_impurity_decrease=0.07, min_samples_leaf=6, min_samples_split=2, n_estimators=300; total time=   0.4s\n",
      "[CV] END max_depth=20, min_impurity_decrease=0.07, min_samples_leaf=6, min_samples_split=2, n_estimators=300; total time=   0.5s\n",
      "[CV] END max_depth=20, min_impurity_decrease=0.07, min_samples_leaf=6, min_samples_split=2, n_estimators=300; total time=   0.4s\n",
      "[CV] END max_depth=20, min_impurity_decrease=0.07, min_samples_leaf=6, min_samples_split=2, n_estimators=300; total time=   0.4s\n",
      "[CV] END max_depth=20, min_impurity_decrease=0.07, min_samples_leaf=6, min_samples_split=2, n_estimators=300; total time=   0.4s\n",
      "[CV] END max_depth=10, min_impurity_decrease=0.09, min_samples_leaf=5, min_samples_split=5, n_estimators=900; total time=   1.1s\n",
      "[CV] END max_depth=10, min_impurity_decrease=0.09, min_samples_leaf=5, min_samples_split=5, n_estimators=900; total time=   1.1s\n",
      "[CV] END max_depth=10, min_impurity_decrease=0.09, min_samples_leaf=5, min_samples_split=5, n_estimators=900; total time=   1.1s\n",
      "[CV] END max_depth=10, min_impurity_decrease=0.09, min_samples_leaf=5, min_samples_split=5, n_estimators=900; total time=   1.1s\n",
      "[CV] END max_depth=10, min_impurity_decrease=0.09, min_samples_leaf=5, min_samples_split=5, n_estimators=900; total time=   1.1s\n",
      "[CV] END max_depth=5, min_impurity_decrease=0.06, min_samples_leaf=9, min_samples_split=4, n_estimators=400; total time=   0.5s\n",
      "[CV] END max_depth=5, min_impurity_decrease=0.06, min_samples_leaf=9, min_samples_split=4, n_estimators=400; total time=   0.5s\n",
      "[CV] END max_depth=5, min_impurity_decrease=0.06, min_samples_leaf=9, min_samples_split=4, n_estimators=400; total time=   0.5s\n",
      "[CV] END max_depth=5, min_impurity_decrease=0.06, min_samples_leaf=9, min_samples_split=4, n_estimators=400; total time=   0.5s\n",
      "[CV] END max_depth=5, min_impurity_decrease=0.06, min_samples_leaf=9, min_samples_split=4, n_estimators=400; total time=   0.6s\n",
      "[CV] END max_depth=15, min_impurity_decrease=0.07, min_samples_leaf=8, min_samples_split=8, n_estimators=500; total time=   0.6s\n",
      "[CV] END max_depth=15, min_impurity_decrease=0.07, min_samples_leaf=8, min_samples_split=8, n_estimators=500; total time=   0.6s\n",
      "[CV] END max_depth=15, min_impurity_decrease=0.07, min_samples_leaf=8, min_samples_split=8, n_estimators=500; total time=   0.6s\n",
      "[CV] END max_depth=15, min_impurity_decrease=0.07, min_samples_leaf=8, min_samples_split=8, n_estimators=500; total time=   0.6s\n",
      "[CV] END max_depth=15, min_impurity_decrease=0.07, min_samples_leaf=8, min_samples_split=8, n_estimators=500; total time=   0.7s\n"
     ]
    },
    {
     "data": {
      "text/html": [
       "<style>#sk-container-id-2 {color: black;background-color: white;}#sk-container-id-2 pre{padding: 0;}#sk-container-id-2 div.sk-toggleable {background-color: white;}#sk-container-id-2 label.sk-toggleable__label {cursor: pointer;display: block;width: 100%;margin-bottom: 0;padding: 0.3em;box-sizing: border-box;text-align: center;}#sk-container-id-2 label.sk-toggleable__label-arrow:before {content: \"▸\";float: left;margin-right: 0.25em;color: #696969;}#sk-container-id-2 label.sk-toggleable__label-arrow:hover:before {color: black;}#sk-container-id-2 div.sk-estimator:hover label.sk-toggleable__label-arrow:before {color: black;}#sk-container-id-2 div.sk-toggleable__content {max-height: 0;max-width: 0;overflow: hidden;text-align: left;background-color: #f0f8ff;}#sk-container-id-2 div.sk-toggleable__content pre {margin: 0.2em;color: black;border-radius: 0.25em;background-color: #f0f8ff;}#sk-container-id-2 input.sk-toggleable__control:checked~div.sk-toggleable__content {max-height: 200px;max-width: 100%;overflow: auto;}#sk-container-id-2 input.sk-toggleable__control:checked~label.sk-toggleable__label-arrow:before {content: \"▾\";}#sk-container-id-2 div.sk-estimator input.sk-toggleable__control:checked~label.sk-toggleable__label {background-color: #d4ebff;}#sk-container-id-2 div.sk-label input.sk-toggleable__control:checked~label.sk-toggleable__label {background-color: #d4ebff;}#sk-container-id-2 input.sk-hidden--visually {border: 0;clip: rect(1px 1px 1px 1px);clip: rect(1px, 1px, 1px, 1px);height: 1px;margin: -1px;overflow: hidden;padding: 0;position: absolute;width: 1px;}#sk-container-id-2 div.sk-estimator {font-family: monospace;background-color: #f0f8ff;border: 1px dotted black;border-radius: 0.25em;box-sizing: border-box;margin-bottom: 0.5em;}#sk-container-id-2 div.sk-estimator:hover {background-color: #d4ebff;}#sk-container-id-2 div.sk-parallel-item::after {content: \"\";width: 100%;border-bottom: 1px solid gray;flex-grow: 1;}#sk-container-id-2 div.sk-label:hover label.sk-toggleable__label {background-color: #d4ebff;}#sk-container-id-2 div.sk-serial::before {content: \"\";position: absolute;border-left: 1px solid gray;box-sizing: border-box;top: 0;bottom: 0;left: 50%;z-index: 0;}#sk-container-id-2 div.sk-serial {display: flex;flex-direction: column;align-items: center;background-color: white;padding-right: 0.2em;padding-left: 0.2em;position: relative;}#sk-container-id-2 div.sk-item {position: relative;z-index: 1;}#sk-container-id-2 div.sk-parallel {display: flex;align-items: stretch;justify-content: center;background-color: white;position: relative;}#sk-container-id-2 div.sk-item::before, #sk-container-id-2 div.sk-parallel-item::before {content: \"\";position: absolute;border-left: 1px solid gray;box-sizing: border-box;top: 0;bottom: 0;left: 50%;z-index: -1;}#sk-container-id-2 div.sk-parallel-item {display: flex;flex-direction: column;z-index: 1;position: relative;background-color: white;}#sk-container-id-2 div.sk-parallel-item:first-child::after {align-self: flex-end;width: 50%;}#sk-container-id-2 div.sk-parallel-item:last-child::after {align-self: flex-start;width: 50%;}#sk-container-id-2 div.sk-parallel-item:only-child::after {width: 0;}#sk-container-id-2 div.sk-dashed-wrapped {border: 1px dashed gray;margin: 0 0.4em 0.5em 0.4em;box-sizing: border-box;padding-bottom: 0.4em;background-color: white;}#sk-container-id-2 div.sk-label label {font-family: monospace;font-weight: bold;display: inline-block;line-height: 1.2em;}#sk-container-id-2 div.sk-label-container {text-align: center;}#sk-container-id-2 div.sk-container {/* jupyter's `normalize.less` sets `[hidden] { display: none; }` but bootstrap.min.css set `[hidden] { display: none !important; }` so we also need the `!important` here to be able to override the default hidden behavior on the sphinx rendered scikit-learn.org. See: https://github.com/scikit-learn/scikit-learn/issues/21755 */display: inline-block !important;position: relative;}#sk-container-id-2 div.sk-text-repr-fallback {display: none;}</style><div id=\"sk-container-id-2\" class=\"sk-top-container\"><div class=\"sk-text-repr-fallback\"><pre>RandomizedSearchCV(cv=5, estimator=RandomForestClassifier(random_state=42),\n",
       "                   n_iter=100,\n",
       "                   param_distributions={&#x27;max_depth&#x27;: [None, 5, 10, 15, 20, 25],\n",
       "                                        &#x27;min_impurity_decrease&#x27;: [0.0, 0.01,\n",
       "                                                                  0.02, 0.03,\n",
       "                                                                  0.04, 0.05,\n",
       "                                                                  0.06, 0.07,\n",
       "                                                                  0.08, 0.09],\n",
       "                                        &#x27;min_samples_leaf&#x27;: [1, 2, 3, 4, 5, 6,\n",
       "                                                             7, 8, 9],\n",
       "                                        &#x27;min_samples_split&#x27;: [2, 3, 4, 5, 6, 7,\n",
       "                                                              8, 9],\n",
       "                                        &#x27;n_estimators&#x27;: [100, 200, 300, 400,\n",
       "                                                         500, 600, 700, 800,\n",
       "                                                         900]},\n",
       "                   random_state=42, verbose=2)</pre><b>In a Jupyter environment, please rerun this cell to show the HTML representation or trust the notebook. <br />On GitHub, the HTML representation is unable to render, please try loading this page with nbviewer.org.</b></div><div class=\"sk-container\" hidden><div class=\"sk-item sk-dashed-wrapped\"><div class=\"sk-label-container\"><div class=\"sk-label sk-toggleable\"><input class=\"sk-toggleable__control sk-hidden--visually\" id=\"sk-estimator-id-2\" type=\"checkbox\" ><label for=\"sk-estimator-id-2\" class=\"sk-toggleable__label sk-toggleable__label-arrow\">RandomizedSearchCV</label><div class=\"sk-toggleable__content\"><pre>RandomizedSearchCV(cv=5, estimator=RandomForestClassifier(random_state=42),\n",
       "                   n_iter=100,\n",
       "                   param_distributions={&#x27;max_depth&#x27;: [None, 5, 10, 15, 20, 25],\n",
       "                                        &#x27;min_impurity_decrease&#x27;: [0.0, 0.01,\n",
       "                                                                  0.02, 0.03,\n",
       "                                                                  0.04, 0.05,\n",
       "                                                                  0.06, 0.07,\n",
       "                                                                  0.08, 0.09],\n",
       "                                        &#x27;min_samples_leaf&#x27;: [1, 2, 3, 4, 5, 6,\n",
       "                                                             7, 8, 9],\n",
       "                                        &#x27;min_samples_split&#x27;: [2, 3, 4, 5, 6, 7,\n",
       "                                                              8, 9],\n",
       "                                        &#x27;n_estimators&#x27;: [100, 200, 300, 400,\n",
       "                                                         500, 600, 700, 800,\n",
       "                                                         900]},\n",
       "                   random_state=42, verbose=2)</pre></div></div></div><div class=\"sk-parallel\"><div class=\"sk-parallel-item\"><div class=\"sk-item\"><div class=\"sk-label-container\"><div class=\"sk-label sk-toggleable\"><input class=\"sk-toggleable__control sk-hidden--visually\" id=\"sk-estimator-id-3\" type=\"checkbox\" ><label for=\"sk-estimator-id-3\" class=\"sk-toggleable__label sk-toggleable__label-arrow\">estimator: RandomForestClassifier</label><div class=\"sk-toggleable__content\"><pre>RandomForestClassifier(random_state=42)</pre></div></div></div><div class=\"sk-serial\"><div class=\"sk-item\"><div class=\"sk-estimator sk-toggleable\"><input class=\"sk-toggleable__control sk-hidden--visually\" id=\"sk-estimator-id-4\" type=\"checkbox\" ><label for=\"sk-estimator-id-4\" class=\"sk-toggleable__label sk-toggleable__label-arrow\">RandomForestClassifier</label><div class=\"sk-toggleable__content\"><pre>RandomForestClassifier(random_state=42)</pre></div></div></div></div></div></div></div></div></div></div>"
      ],
      "text/plain": [
       "RandomizedSearchCV(cv=5, estimator=RandomForestClassifier(random_state=42),\n",
       "                   n_iter=100,\n",
       "                   param_distributions={'max_depth': [None, 5, 10, 15, 20, 25],\n",
       "                                        'min_impurity_decrease': [0.0, 0.01,\n",
       "                                                                  0.02, 0.03,\n",
       "                                                                  0.04, 0.05,\n",
       "                                                                  0.06, 0.07,\n",
       "                                                                  0.08, 0.09],\n",
       "                                        'min_samples_leaf': [1, 2, 3, 4, 5, 6,\n",
       "                                                             7, 8, 9],\n",
       "                                        'min_samples_split': [2, 3, 4, 5, 6, 7,\n",
       "                                                              8, 9],\n",
       "                                        'n_estimators': [100, 200, 300, 400,\n",
       "                                                         500, 600, 700, 800,\n",
       "                                                         900]},\n",
       "                   random_state=42, verbose=2)"
      ]
     },
     "execution_count": 147,
     "metadata": {},
     "output_type": "execute_result"
    }
   ],
   "source": [
    "param_grid = {\n",
    "    'n_estimators': [i for i in range(100, 1000, 100)],\n",
    "    'max_depth': [None] + list(np.arange(5, 30, 5)),\n",
    "    'min_samples_split': [i for i in range(2, 10)],\n",
    "    'min_samples_leaf': [i for i in range(1, 10)],\n",
    "    'min_impurity_decrease': [i for i in np.arange(0, 0.1, 0.01)] \n",
    "    }\n",
    "\n",
    "# Perform randomized search with cross-validation\n",
    "random_search = RandomizedSearchCV(estimator=rf_arg1, param_distributions=param_grid, n_iter=100, cv=5, random_state=42, verbose=2)\n",
    "random_search.fit(db_arg1, y_arg1)"
   ]
  },
  {
   "cell_type": "code",
   "execution_count": 149,
   "metadata": {},
   "outputs": [
    {
     "name": "stdout",
     "output_type": "stream",
     "text": [
      "the average accuracy was: 0.8126775956284155 and the complete score was: [0.83606557 0.85245902 0.83606557 0.86885246 0.83333333 0.81666667\n",
      " 0.86666667 0.73333333 0.71666667 0.76666667]\n"
     ]
    }
   ],
   "source": [
    "rf_arg1_best=RandomForestClassifier(**random_search.best_params_,random_state=42)\n",
    "score = cross_val_score(rf_arg1_best, db_arg1, y_arg1, cv=10,error_score='raise')\n",
    "print(f\"the average accuracy was: {score.mean()} and the complete score was: {score}\")"
   ]
  },
  {
   "attachments": {},
   "cell_type": "markdown",
   "metadata": {},
   "source": [
    "### Classifier for rel"
   ]
  },
  {
   "cell_type": "code",
   "execution_count": 135,
   "metadata": {},
   "outputs": [
    {
     "name": "stderr",
     "output_type": "stream",
     "text": [
      "/var/folders/hx/n0zcsqj95pq2sj7w5hfh23qm0000gn/T/ipykernel_17943/2113341153.py:9: SettingWithCopyWarning: \n",
      "A value is trying to be set on a copy of a slice from a DataFrame.\n",
      "Try using .loc[row_indexer,col_indexer] = value instead\n",
      "\n",
      "See the caveats in the documentation: https://pandas.pydata.org/pandas-docs/stable/user_guide/indexing.html#returning-a-view-versus-a-copy\n",
      "  db[\"length\"]=db[x].apply(lambda x: len(word_tokenize(x)))\n",
      "/var/folders/hx/n0zcsqj95pq2sj7w5hfh23qm0000gn/T/ipykernel_17943/2113341153.py:10: SettingWithCopyWarning: \n",
      "A value is trying to be set on a copy of a slice from a DataFrame.\n",
      "Try using .loc[row_indexer,col_indexer] = value instead\n",
      "\n",
      "See the caveats in the documentation: https://pandas.pydata.org/pandas-docs/stable/user_guide/indexing.html#returning-a-view-versus-a-copy\n",
      "  db['main_pos_counts'] = db[x].apply(count_main_pos_tags)\n"
     ]
    }
   ],
   "source": [
    "db_rel, y_rel=for_class(final,\"rel\")\n",
    "y_rel=y_rel[\"is_valuable_rel\"]"
   ]
  },
  {
   "cell_type": "code",
   "execution_count": 136,
   "metadata": {},
   "outputs": [
    {
     "name": "stdout",
     "output_type": "stream",
     "text": [
      "the average accuracy was: 0.7245098039215686 and the complete score was: [0.61111111 0.88888889 0.5        0.88888889 0.83333333 0.66666667\n",
      " 0.66666667 0.77777778 0.58823529 0.82352941]\n"
     ]
    }
   ],
   "source": [
    "rf_rel=RandomForestClassifier(random_state=42)\n",
    "score_rel = cross_val_score(rf_rel, db_rel, y_rel, cv=10,error_score='raise')\n",
    "print(f\"the average accuracy was: {score_rel.mean()} and the complete score was: {score_rel}\")"
   ]
  },
  {
   "cell_type": "code",
   "execution_count": 137,
   "metadata": {},
   "outputs": [
    {
     "data": {
      "image/png": "[encoded data removed]",
      "text/plain": [
       "<Figure size 800x600 with 2 Axes>"
      ]
     },
     "metadata": {},
     "output_type": "display_data"
    }
   ],
   "source": [
    "from sklearn.metrics import confusion_matrix\n",
    "from sklearn.model_selection import train_test_split\n",
    "\n",
    "\n",
    "# Assuming you have your features X and labels y\n",
    "\n",
    "# Split the data into training and testing sets\n",
    "X_train, X_test, y_train, y_test = train_test_split(db_rel, y_rel, test_size=0.2, random_state=42)\n",
    "\n",
    "# Initialize and train the Random Forest classifier\n",
    "rf_rel.fit(X_train, y_train)\n",
    "\n",
    "# Predict labels for the test set\n",
    "y_pred = rf_rel.predict(X_test)\n",
    "\n",
    "# Create the confusion matrix\n",
    "confusion_mat = confusion_matrix(y_test, y_pred)\n",
    "\n",
    "# Plot the confusion matrix\n",
    "plt.figure(figsize=(8, 6))\n",
    "sns.heatmap(confusion_mat, annot=True, fmt=\"d\", cmap=\"Blues\")\n",
    "plt.xlabel(\"Predicted Labels\")\n",
    "plt.ylabel(\"True Labels\")\n",
    "plt.title(\"Confusion Matrix - Random Forest\")\n",
    "plt.show()"
   ]
  },
  {
   "attachments": {},
   "cell_type": "markdown",
   "metadata": {},
   "source": [
    "### Classifier for Arg2"
   ]
  },
  {
   "cell_type": "code",
   "execution_count": 150,
   "metadata": {},
   "outputs": [
    {
     "name": "stderr",
     "output_type": "stream",
     "text": [
      "/var/folders/hx/n0zcsqj95pq2sj7w5hfh23qm0000gn/T/ipykernel_17943/2113341153.py:9: SettingWithCopyWarning: \n",
      "A value is trying to be set on a copy of a slice from a DataFrame.\n",
      "Try using .loc[row_indexer,col_indexer] = value instead\n",
      "\n",
      "See the caveats in the documentation: https://pandas.pydata.org/pandas-docs/stable/user_guide/indexing.html#returning-a-view-versus-a-copy\n",
      "  db[\"length\"]=db[x].apply(lambda x: len(word_tokenize(x)))\n",
      "/var/folders/hx/n0zcsqj95pq2sj7w5hfh23qm0000gn/T/ipykernel_17943/2113341153.py:10: SettingWithCopyWarning: \n",
      "A value is trying to be set on a copy of a slice from a DataFrame.\n",
      "Try using .loc[row_indexer,col_indexer] = value instead\n",
      "\n",
      "See the caveats in the documentation: https://pandas.pydata.org/pandas-docs/stable/user_guide/indexing.html#returning-a-view-versus-a-copy\n",
      "  db['main_pos_counts'] = db[x].apply(count_main_pos_tags)\n"
     ]
    }
   ],
   "source": [
    "db_arg2=for_class(final,\"arg2\")[0]\n",
    "y_arg2=final[\"is_valuable_arg2\"]"
   ]
  },
  {
   "cell_type": "code",
   "execution_count": 151,
   "metadata": {},
   "outputs": [
    {
     "name": "stdout",
     "output_type": "stream",
     "text": [
      "the average accuracy was: 0.7682513661202186 and the complete score was: [0.78688525 0.7704918  0.73770492 0.75409836 0.8        0.76666667\n",
      " 0.76666667 0.75       0.78333333 0.76666667]\n"
     ]
    }
   ],
   "source": [
    "rf_arg2=RandomForestClassifier(random_state=42)\n",
    "score_arg2 = cross_val_score(rf_arg2, db_arg2, y_arg2, cv=10,error_score='raise')\n",
    "print(f\"the average accuracy was: {score_arg2.mean()} and the complete score was: {score_arg2}\")"
   ]
  },
  {
   "cell_type": "code",
   "execution_count": 152,
   "metadata": {},
   "outputs": [
    {
     "data": {
      "text/html": [
       "<style>#sk-container-id-3 {color: black;background-color: white;}#sk-container-id-3 pre{padding: 0;}#sk-container-id-3 div.sk-toggleable {background-color: white;}#sk-container-id-3 label.sk-toggleable__label {cursor: pointer;display: block;width: 100%;margin-bottom: 0;padding: 0.3em;box-sizing: border-box;text-align: center;}#sk-container-id-3 label.sk-toggleable__label-arrow:before {content: \"▸\";float: left;margin-right: 0.25em;color: #696969;}#sk-container-id-3 label.sk-toggleable__label-arrow:hover:before {color: black;}#sk-container-id-3 div.sk-estimator:hover label.sk-toggleable__label-arrow:before {color: black;}#sk-container-id-3 div.sk-toggleable__content {max-height: 0;max-width: 0;overflow: hidden;text-align: left;background-color: #f0f8ff;}#sk-container-id-3 div.sk-toggleable__content pre {margin: 0.2em;color: black;border-radius: 0.25em;background-color: #f0f8ff;}#sk-container-id-3 input.sk-toggleable__control:checked~div.sk-toggleable__content {max-height: 200px;max-width: 100%;overflow: auto;}#sk-container-id-3 input.sk-toggleable__control:checked~label.sk-toggleable__label-arrow:before {content: \"▾\";}#sk-container-id-3 div.sk-estimator input.sk-toggleable__control:checked~label.sk-toggleable__label {background-color: #d4ebff;}#sk-container-id-3 div.sk-label input.sk-toggleable__control:checked~label.sk-toggleable__label {background-color: #d4ebff;}#sk-container-id-3 input.sk-hidden--visually {border: 0;clip: rect(1px 1px 1px 1px);clip: rect(1px, 1px, 1px, 1px);height: 1px;margin: -1px;overflow: hidden;padding: 0;position: absolute;width: 1px;}#sk-container-id-3 div.sk-estimator {font-family: monospace;background-color: #f0f8ff;border: 1px dotted black;border-radius: 0.25em;box-sizing: border-box;margin-bottom: 0.5em;}#sk-container-id-3 div.sk-estimator:hover {background-color: #d4ebff;}#sk-container-id-3 div.sk-parallel-item::after {content: \"\";width: 100%;border-bottom: 1px solid gray;flex-grow: 1;}#sk-container-id-3 div.sk-label:hover label.sk-toggleable__label {background-color: #d4ebff;}#sk-container-id-3 div.sk-serial::before {content: \"\";position: absolute;border-left: 1px solid gray;box-sizing: border-box;top: 0;bottom: 0;left: 50%;z-index: 0;}#sk-container-id-3 div.sk-serial {display: flex;flex-direction: column;align-items: center;background-color: white;padding-right: 0.2em;padding-left: 0.2em;position: relative;}#sk-container-id-3 div.sk-item {position: relative;z-index: 1;}#sk-container-id-3 div.sk-parallel {display: flex;align-items: stretch;justify-content: center;background-color: white;position: relative;}#sk-container-id-3 div.sk-item::before, #sk-container-id-3 div.sk-parallel-item::before {content: \"\";position: absolute;border-left: 1px solid gray;box-sizing: border-box;top: 0;bottom: 0;left: 50%;z-index: -1;}#sk-container-id-3 div.sk-parallel-item {display: flex;flex-direction: column;z-index: 1;position: relative;background-color: white;}#sk-container-id-3 div.sk-parallel-item:first-child::after {align-self: flex-end;width: 50%;}#sk-container-id-3 div.sk-parallel-item:last-child::after {align-self: flex-start;width: 50%;}#sk-container-id-3 div.sk-parallel-item:only-child::after {width: 0;}#sk-container-id-3 div.sk-dashed-wrapped {border: 1px dashed gray;margin: 0 0.4em 0.5em 0.4em;box-sizing: border-box;padding-bottom: 0.4em;background-color: white;}#sk-container-id-3 div.sk-label label {font-family: monospace;font-weight: bold;display: inline-block;line-height: 1.2em;}#sk-container-id-3 div.sk-label-container {text-align: center;}#sk-container-id-3 div.sk-container {/* jupyter's `normalize.less` sets `[hidden] { display: none; }` but bootstrap.min.css set `[hidden] { display: none !important; }` so we also need the `!important` here to be able to override the default hidden behavior on the sphinx rendered scikit-learn.org. See: https://github.com/scikit-learn/scikit-learn/issues/21755 */display: inline-block !important;position: relative;}#sk-container-id-3 div.sk-text-repr-fallback {display: none;}</style><div id=\"sk-container-id-3\" class=\"sk-top-container\"><div class=\"sk-text-repr-fallback\"><pre>RandomForestClassifier(random_state=42)</pre><b>In a Jupyter environment, please rerun this cell to show the HTML representation or trust the notebook. <br />On GitHub, the HTML representation is unable to render, please try loading this page with nbviewer.org.</b></div><div class=\"sk-container\" hidden><div class=\"sk-item\"><div class=\"sk-estimator sk-toggleable\"><input class=\"sk-toggleable__control sk-hidden--visually\" id=\"sk-estimator-id-5\" type=\"checkbox\" checked><label for=\"sk-estimator-id-5\" class=\"sk-toggleable__label sk-toggleable__label-arrow\">RandomForestClassifier</label><div class=\"sk-toggleable__content\"><pre>RandomForestClassifier(random_state=42)</pre></div></div></div></div></div>"
      ],
      "text/plain": [
       "RandomForestClassifier(random_state=42)"
      ]
     },
     "execution_count": 152,
     "metadata": {},
     "output_type": "execute_result"
    }
   ],
   "source": [
    "rf_arg2.fit(db_arg2,y_arg2)"
   ]
  },
  {
   "cell_type": "code",
   "execution_count": 153,
   "metadata": {},
   "outputs": [
    {
     "data": {
      "text/plain": [
       "['model_file_2.joblib']"
      ]
     },
     "execution_count": 153,
     "metadata": {},
     "output_type": "execute_result"
    }
   ],
   "source": [
    "from joblib import dump\n",
    "dump(rf_arg2, 'model_file_2.joblib')"
   ]
  },
  {
   "cell_type": "code",
   "execution_count": null,
   "metadata": {},
   "outputs": [],
   "source": []
  }
 ],
 "metadata": {
  "kernelspec": {
   "display_name": "Python 3",
   "language": "python",
   "name": "python3"
  },
  "language_info": {
   "codemirror_mode": {
    "name": "ipython",
    "version": 3
   },
   "file_extension": ".py",
   "mimetype": "text/x-python",
   "name": "python",
   "nbconvert_exporter": "python",
   "pygments_lexer": "ipython3",
   "version": "3.8.5"
  },
  "orig_nbformat": 4
 },
 "nbformat": 4,
 "nbformat_minor": 2
}
