{
 "cells": [
  {
   "cell_type": "code",
   "execution_count": 66,
   "metadata": {},
   "outputs": [
    {
     "name": "stderr",
     "output_type": "stream",
     "text": [
      "[nltk_data] Downloading package averaged_perceptron_tagger to\n",
      "[nltk_data]     /Users/dimpo/nltk_data...\n",
      "[nltk_data]   Package averaged_perceptron_tagger is already up-to-\n",
      "[nltk_data]       date!\n"
     ]
    },
    {
     "data": {
      "text/plain": [
       "True"
      ]
     },
     "execution_count": 66,
     "metadata": {},
     "output_type": "execute_result"
    }
   ],
   "source": [
    "import pandas as pd\n",
    "import numpy as np\n",
    "import matplotlib.pyplot as plt\n",
    "import seaborn as sns\n",
    "from nltk import word_tokenize\n",
    "from sklearn.ensemble import RandomForestClassifier\n",
    "from sklearn.model_selection import cross_val_score\n",
    "from sentence_transformers import SentenceTransformer\n",
    "import nltk\n",
    "nltk.download('averaged_perceptron_tagger')"
   ]
  },
  {
   "attachments": {},
   "cell_type": "markdown",
   "metadata": {},
   "source": [
    "# FIRST TRY WITH FULL ANNOTATIONS"
   ]
  },
  {
   "cell_type": "code",
   "execution_count": 57,
   "metadata": {},
   "outputs": [],
   "source": [
    "lor=pd.read_excel(\"for_annotations_relations_lorenzo_try.xlsx\")\n",
    "ric=pd.read_excel(\"annotations 2000.xlsx\")\n",
    "ric=ric.iloc[0:2000,:]\n",
    "lor=lor.iloc[0:2170,:]"
   ]
  },
  {
   "cell_type": "code",
   "execution_count": 58,
   "metadata": {},
   "outputs": [],
   "source": [
    "ric.drop(['Column1'],axis=1,inplace=True)\n",
    "lor.drop(['Unnamed: 0'],axis=1,inplace=True)"
   ]
  },
  {
   "cell_type": "code",
   "execution_count": 59,
   "metadata": {},
   "outputs": [],
   "source": [
    "final=pd.concat([lor,ric]).reset_index(drop=True)"
   ]
  },
  {
   "cell_type": "code",
   "execution_count": 60,
   "metadata": {},
   "outputs": [],
   "source": [
    "final.loc[1693,\"is_valuable\"]=1"
   ]
  },
  {
   "cell_type": "code",
   "execution_count": 61,
   "metadata": {},
   "outputs": [],
   "source": [
    "final[\"is_valuable_rel\"]=[1 for i in range(len(final))]\n",
    "final[\"is_valuable_arg2\"]=[1 for i in range(len(final))]"
   ]
  },
  {
   "cell_type": "code",
   "execution_count": 62,
   "metadata": {},
   "outputs": [],
   "source": [
    "final.to_excel(\"final.xlsx\")"
   ]
  },
  {
   "cell_type": "code",
   "execution_count": 50,
   "metadata": {},
   "outputs": [
    {
     "data": {
      "text/plain": [
       "<AxesSubplot: xlabel='is_valuable', ylabel='Count'>"
      ]
     },
     "execution_count": 50,
     "metadata": {},
     "output_type": "execute_result"
    },
    {
     "data": {
      "image/png": "[encoded data removed]",
      "text/plain": [
       "<Figure size 640x480 with 1 Axes>"
      ]
     },
     "metadata": {},
     "output_type": "display_data"
    }
   ],
   "source": [
    "sns.histplot(final[\"is_valuable\"])"
   ]
  },
  {
   "cell_type": "code",
   "execution_count": 51,
   "metadata": {},
   "outputs": [],
   "source": [
    "final[\"len_arg1\"]=final[\"arg1\"].apply(lambda x: len(word_tokenize(x)))\n",
    "final[\"len_rel\"]=final[\"rel\"].apply(lambda x: len(word_tokenize(x)))\n",
    "final[\"len_arg2\"]=final[\"arg2\"].apply(lambda x: len(word_tokenize(x)))"
   ]
  },
  {
   "cell_type": "code",
   "execution_count": 38,
   "metadata": {},
   "outputs": [],
   "source": [
    "\n",
    "model = SentenceTransformer('all-MiniLM-L6-v2')\n",
    "final.loc[:, 'arg1'] = final.loc[:, 'arg1'].apply(lambda x: model.encode(x))\n",
    "final.loc[:, 'rel'] = final.loc[:, 'rel'].apply(lambda x: model.encode(x))\n",
    "final.loc[:, 'arg2'] = final.loc[:, 'arg2'].apply(lambda x: model.encode(x))"
   ]
  },
  {
   "cell_type": "code",
   "execution_count": 39,
   "metadata": {},
   "outputs": [],
   "source": [
    "embeddings_arg1 = np.vstack(final.loc[:, 'arg1'].values)\n",
    "embeddings_rel = np.vstack(final.loc[:, 'rel'].values)\n",
    "embeddings_arg2 = np.vstack(final.loc[:, 'arg2'].values)"
   ]
  },
  {
   "cell_type": "code",
   "execution_count": 40,
   "metadata": {},
   "outputs": [],
   "source": [
    "# final.loc[:, 'negated']=final.loc[:, 'negated'].apply(lambda x: 1 if x==True else 0)\n",
    "# final.loc[:, 'passive']=final.loc[:, 'passive'].apply(lambda x: 1 if x==True else 0)\n",
    "# negated = np.expand_dims(final.loc[:, 'negated'].values, axis=1)\n",
    "# passive = np.expand_dims(final.loc[:, 'passive'].values, axis=1)\n",
    "confidence= final.loc[:, ['confidence']].values\n",
    "len_arg1 = np.expand_dims(final.loc[:, 'len_arg1'].values, axis=1)\n",
    "len_rel = np.expand_dims(final.loc[:, 'len_rel'].values, axis=1)\n",
    "len_arg2 = np.expand_dims(final.loc[:, 'len_arg2'].values, axis=1)\n"
   ]
  },
  {
   "cell_type": "code",
   "execution_count": 41,
   "metadata": {},
   "outputs": [],
   "source": [
    "# X = np.hstack([embeddings_arg1, embeddings_rel, embeddings_arg2, negated, passive, confidence])\n",
    "X = np.hstack([embeddings_arg1, embeddings_rel, embeddings_arg2, confidence, len_arg1, len_rel, len_arg2])"
   ]
  },
  {
   "cell_type": "code",
   "execution_count": 54,
   "metadata": {},
   "outputs": [],
   "source": [
    "X=final.drop(['is_valuable', 'sentence', 'arg1', 'rel', 'arg2', 'negated', 'passive'],axis=1)"
   ]
  },
  {
   "cell_type": "code",
   "execution_count": 42,
   "metadata": {},
   "outputs": [],
   "source": [
    "y=final.loc[:, 'is_valuable'].astype(int)"
   ]
  },
  {
   "cell_type": "code",
   "execution_count": 56,
   "metadata": {},
   "outputs": [
    {
     "data": {
      "text/plain": [
       "array([0.56115108, 0.55635492, 0.56354916, 0.52278177, 0.55395683])"
      ]
     },
     "execution_count": 56,
     "metadata": {},
     "output_type": "execute_result"
    }
   ],
   "source": [
    "\n",
    "\n",
    "# Create a Random Forest Classifier with desired parameters\n",
    "rf_classifier = RandomForestClassifier(random_state=42)\n",
    "score = cross_val_score(rf_classifier, X, y, cv=5,error_score='raise')\n",
    "score"
   ]
  },
  {
   "cell_type": "code",
   "execution_count": 117,
   "metadata": {},
   "outputs": [
    {
     "data": {
      "text/html": [
       "<style>#sk-container-id-3 {color: black;background-color: white;}#sk-container-id-3 pre{padding: 0;}#sk-container-id-3 div.sk-toggleable {background-color: white;}#sk-container-id-3 label.sk-toggleable__label {cursor: pointer;display: block;width: 100%;margin-bottom: 0;padding: 0.3em;box-sizing: border-box;text-align: center;}#sk-container-id-3 label.sk-toggleable__label-arrow:before {content: \"▸\";float: left;margin-right: 0.25em;color: #696969;}#sk-container-id-3 label.sk-toggleable__label-arrow:hover:before {color: black;}#sk-container-id-3 div.sk-estimator:hover label.sk-toggleable__label-arrow:before {color: black;}#sk-container-id-3 div.sk-toggleable__content {max-height: 0;max-width: 0;overflow: hidden;text-align: left;background-color: #f0f8ff;}#sk-container-id-3 div.sk-toggleable__content pre {margin: 0.2em;color: black;border-radius: 0.25em;background-color: #f0f8ff;}#sk-container-id-3 input.sk-toggleable__control:checked~div.sk-toggleable__content {max-height: 200px;max-width: 100%;overflow: auto;}#sk-container-id-3 input.sk-toggleable__control:checked~label.sk-toggleable__label-arrow:before {content: \"▾\";}#sk-container-id-3 div.sk-estimator input.sk-toggleable__control:checked~label.sk-toggleable__label {background-color: #d4ebff;}#sk-container-id-3 div.sk-label input.sk-toggleable__control:checked~label.sk-toggleable__label {background-color: #d4ebff;}#sk-container-id-3 input.sk-hidden--visually {border: 0;clip: rect(1px 1px 1px 1px);clip: rect(1px, 1px, 1px, 1px);height: 1px;margin: -1px;overflow: hidden;padding: 0;position: absolute;width: 1px;}#sk-container-id-3 div.sk-estimator {font-family: monospace;background-color: #f0f8ff;border: 1px dotted black;border-radius: 0.25em;box-sizing: border-box;margin-bottom: 0.5em;}#sk-container-id-3 div.sk-estimator:hover {background-color: #d4ebff;}#sk-container-id-3 div.sk-parallel-item::after {content: \"\";width: 100%;border-bottom: 1px solid gray;flex-grow: 1;}#sk-container-id-3 div.sk-label:hover label.sk-toggleable__label {background-color: #d4ebff;}#sk-container-id-3 div.sk-serial::before {content: \"\";position: absolute;border-left: 1px solid gray;box-sizing: border-box;top: 0;bottom: 0;left: 50%;z-index: 0;}#sk-container-id-3 div.sk-serial {display: flex;flex-direction: column;align-items: center;background-color: white;padding-right: 0.2em;padding-left: 0.2em;position: relative;}#sk-container-id-3 div.sk-item {position: relative;z-index: 1;}#sk-container-id-3 div.sk-parallel {display: flex;align-items: stretch;justify-content: center;background-color: white;position: relative;}#sk-container-id-3 div.sk-item::before, #sk-container-id-3 div.sk-parallel-item::before {content: \"\";position: absolute;border-left: 1px solid gray;box-sizing: border-box;top: 0;bottom: 0;left: 50%;z-index: -1;}#sk-container-id-3 div.sk-parallel-item {display: flex;flex-direction: column;z-index: 1;position: relative;background-color: white;}#sk-container-id-3 div.sk-parallel-item:first-child::after {align-self: flex-end;width: 50%;}#sk-container-id-3 div.sk-parallel-item:last-child::after {align-self: flex-start;width: 50%;}#sk-container-id-3 div.sk-parallel-item:only-child::after {width: 0;}#sk-container-id-3 div.sk-dashed-wrapped {border: 1px dashed gray;margin: 0 0.4em 0.5em 0.4em;box-sizing: border-box;padding-bottom: 0.4em;background-color: white;}#sk-container-id-3 div.sk-label label {font-family: monospace;font-weight: bold;display: inline-block;line-height: 1.2em;}#sk-container-id-3 div.sk-label-container {text-align: center;}#sk-container-id-3 div.sk-container {/* jupyter's `normalize.less` sets `[hidden] { display: none; }` but bootstrap.min.css set `[hidden] { display: none !important; }` so we also need the `!important` here to be able to override the default hidden behavior on the sphinx rendered scikit-learn.org. See: https://github.com/scikit-learn/scikit-learn/issues/21755 */display: inline-block !important;position: relative;}#sk-container-id-3 div.sk-text-repr-fallback {display: none;}</style><div id=\"sk-container-id-3\" class=\"sk-top-container\"><div class=\"sk-text-repr-fallback\"><pre>RandomForestClassifier(random_state=42)</pre><b>In a Jupyter environment, please rerun this cell to show the HTML representation or trust the notebook. <br />On GitHub, the HTML representation is unable to render, please try loading this page with nbviewer.org.</b></div><div class=\"sk-container\" hidden><div class=\"sk-item\"><div class=\"sk-estimator sk-toggleable\"><input class=\"sk-toggleable__control sk-hidden--visually\" id=\"sk-estimator-id-3\" type=\"checkbox\" checked><label for=\"sk-estimator-id-3\" class=\"sk-toggleable__label sk-toggleable__label-arrow\">RandomForestClassifier</label><div class=\"sk-toggleable__content\"><pre>RandomForestClassifier(random_state=42)</pre></div></div></div></div></div>"
      ],
      "text/plain": [
       "RandomForestClassifier(random_state=42)"
      ]
     },
     "execution_count": 117,
     "metadata": {},
     "output_type": "execute_result"
    }
   ],
   "source": [
    "rf=RandomForestClassifier(random_state=42)\n",
    "rf.fit(X,y)"
   ]
  },
  {
   "cell_type": "code",
   "execution_count": 118,
   "metadata": {},
   "outputs": [
    {
     "data": {
      "text/plain": [
       "['model_file.joblib']"
      ]
     },
     "execution_count": 118,
     "metadata": {},
     "output_type": "execute_result"
    }
   ],
   "source": [
    "from joblib import dump\n",
    "dump(rf, 'model_file.joblib')"
   ]
  },
  {
   "cell_type": "code",
   "execution_count": 135,
   "metadata": {},
   "outputs": [],
   "source": [
    "from sklearn import svm\n",
    "\n",
    "clf = svm.SVC(kernel='linear')\n",
    "score = cross_val_score(clf, X, y, cv=5,error_score='raise')\n",
    "score"
   ]
  },
  {
   "attachments": {},
   "cell_type": "markdown",
   "metadata": {},
   "source": [
    "# SECOND TRY WITH MORE CLASSIFIERS"
   ]
  },
  {
   "cell_type": "code",
   "execution_count": 36,
   "metadata": {},
   "outputs": [],
   "source": [
    "mie = pd.read_excel(\"final.xlsx\")\n",
    "ric = pd.read_csv(\"150ric.csv\")\n",
    "ele = pd.read_csv(\"150ele.csv\")\n",
    "domi = pd.read_csv(\"150domi.csv\")\n",
    "mie.drop(['Unnamed: 0'],axis=1,inplace=True)\n",
    "ele.drop(['Unnamed: 0', 'Unnamed: 0.1'],axis=1,inplace=True)"
   ]
  },
  {
   "cell_type": "code",
   "execution_count": 37,
   "metadata": {},
   "outputs": [],
   "source": [
    "mie=mie.iloc[:605,:]\n",
    "mie.drop(mie[mie[\"is_valuable\"] == \"q\"].index, inplace = True)\n",
    "mie[\"negated\"]=mie[\"negated\"].apply(lambda x: 1 if x==True else 0)\n",
    "mie[\"passive\"]=mie[\"passive\"].apply(lambda x: 1 if x==True else 0)\n",
    "ele[\"negated\"]=ele[\"negated\"].apply(lambda x: 1 if x==True else 0)\n",
    "mie[\"passive\"]=mie[\"passive\"].astype(float)\n",
    "mie[\"negated\"]=mie[\"negated\"].astype(float)\n",
    "ele[\"negated\"]=ele[\"negated\"].astype(float)\n",
    "ele[\"is_valuable\"]=ele[\"is_valuable\"].astype(float)\n",
    "mie[\"is_valuable\"]=mie[\"is_valuable\"].astype(float)\n",
    "ele[\"is_valuable_rel\"]=ele[\"is_valuable_rel\"].astype(float)\n",
    "mie[\"is_valuable_rel\"]=mie[\"is_valuable_rel\"].astype(float)\n",
    "ele[\"is_valuable_arg2\"]=ele[\"is_valuable_arg2\"].astype(float)\n",
    "mie[\"is_valuable_arg2\"]=mie[\"is_valuable_arg2\"].astype(float)\n",
    "ric.rename(columns={\"arg1_val\": \"is_valuable\",\"rel_val\":\"is_valuable_rel\",\"arg2_val\":\"is_valuable_arg2\"},inplace=True)\n"
   ]
  },
  {
   "cell_type": "code",
   "execution_count": 43,
   "metadata": {},
   "outputs": [],
   "source": [
    "final=pd.concat([mie,ric,ele,domi]).reset_index(drop=True)"
   ]
  },
  {
   "cell_type": "code",
   "execution_count": 57,
   "metadata": {},
   "outputs": [
    {
     "data": {
      "image/png": "[encoded data removed]",
      "text/plain": [
       "<Figure size 1200x400 with 3 Axes>"
      ]
     },
     "metadata": {},
     "output_type": "display_data"
    }
   ],
   "source": [
    "fig, axes = plt.subplots(1, 3, figsize=(12, 4))\n",
    "sns.countplot(data=final, x='is_valuable', ax=axes[0])\n",
    "axes[0].set_title('Arg1')\n",
    "sns.countplot(data=final, x='is_valuable_rel', ax=axes[1])\n",
    "axes[1].set_title('Rel')\n",
    "sns.countplot(data=final, x='is_valuable_arg2', ax=axes[2])\n",
    "axes[2].set_title('Arg2')\n",
    "plt.tight_layout()\n",
    "plt.show()\n"
   ]
  },
  {
   "cell_type": "code",
   "execution_count": null,
   "metadata": {},
   "outputs": [],
   "source": [
    "main_pos_tags = {'Noun': ['NN', 'NNS', 'NNP', 'NNPS'],\n",
    "                 'Pronoun': ['PRP', 'PRP$'],\n",
    "                 'Adjective': ['JJ', 'JJR', 'JJS'],\n",
    "                 'Verb': ['VB', 'VBD', 'VBG', 'VBN', 'VBP', 'VBZ']}\n",
    "\n",
    "def count_main_pos_tags(sentence):\n",
    "    pos_tags = nltk.pos_tag(nltk.word_tokenize(sentence))\n",
    "    tag_counts = {tag_group: 0 for tag_group in main_pos_tags}\n",
    "    for word, tag in pos_tags:\n",
    "        for tag_group, tags in main_pos_tags.items():\n",
    "            if tag in tags:\n",
    "                tag_counts[tag_group] += 1\n",
    "    return tag_counts"
   ]
  },
  {
   "cell_type": "code",
   "execution_count": 81,
   "metadata": {},
   "outputs": [],
   "source": [
    "def for_class(df,x):\n",
    "    model = SentenceTransformer('all-MiniLM-L6-v2')\n",
    "    if x==\"arg1\":\n",
    "        db=df[[\"arg1\",\"is_valuable\"]]\n",
    "        db[\"length\"]=db[\"arg1\"].apply(lambda x: len(word_tokenize(x)))\n",
    "        db['main_pos_counts'] = db['arg1'].apply(count_main_pos_tags)\n",
    "        db = pd.concat([db.drop('main_pos_counts', axis=1), db['main_pos_counts'].apply(pd.Series)], axis=1)\n",
    "        db.loc[:, 'arg1'] = db.loc[:, 'arg1'].apply(lambda x: model.encode(x))\n",
    "        embeddings_arg1 = np.vstack(db.loc[:, 'arg1'].values)\n",
    "        len_arg1 = np.expand_dims(db.loc[:, 'length'].values, axis=1)\n",
    "        nouns=np.expand_dims(db.loc[:, 'Noun'].values, axis=1)\n",
    "        pronouns=np.expand_dims(db.loc[:, 'Pronoun'].values, axis=1)\n",
    "        adjectives=np.expand_dims(db.loc[:, 'Adjective'].values, axis=1)\n",
    "        verbs=np.expand_dims(db.loc[:, 'Verb'].values, axis=1)\n",
    "        db= np.hstack([embeddings_arg1, len_arg1, nouns, pronouns, adjectives, verbs])\n",
    "    elif x==\"rel\":\n",
    "        db=df[[\"rel\",\"is_valuable_rel\"]]\n",
    "        db[\"length\"]=db[\"rel\"].apply(lambda x: len(word_tokenize(x)))\n",
    "    elif x==\"arg2\":\n",
    "        db=df[[\"arg2\",\"is_valuable_arg2\"]]\n",
    "        db[\"length\"]=db[\"arg2\"].apply(lambda x: len(word_tokenize(x)))\n",
    "    return db"
   ]
  },
  {
   "attachments": {},
   "cell_type": "markdown",
   "metadata": {},
   "source": [
    "### Classifier for Arg1"
   ]
  },
  {
   "cell_type": "code",
   "execution_count": 82,
   "metadata": {},
   "outputs": [
    {
     "name": "stderr",
     "output_type": "stream",
     "text": [
      "/var/folders/hx/n0zcsqj95pq2sj7w5hfh23qm0000gn/T/ipykernel_17943/1537226926.py:5: SettingWithCopyWarning: \n",
      "A value is trying to be set on a copy of a slice from a DataFrame.\n",
      "Try using .loc[row_indexer,col_indexer] = value instead\n",
      "\n",
      "See the caveats in the documentation: https://pandas.pydata.org/pandas-docs/stable/user_guide/indexing.html#returning-a-view-versus-a-copy\n",
      "  db[\"length\"]=db[\"arg1\"].apply(lambda x: len(word_tokenize(x)))\n",
      "/var/folders/hx/n0zcsqj95pq2sj7w5hfh23qm0000gn/T/ipykernel_17943/1537226926.py:6: SettingWithCopyWarning: \n",
      "A value is trying to be set on a copy of a slice from a DataFrame.\n",
      "Try using .loc[row_indexer,col_indexer] = value instead\n",
      "\n",
      "See the caveats in the documentation: https://pandas.pydata.org/pandas-docs/stable/user_guide/indexing.html#returning-a-view-versus-a-copy\n",
      "  db['main_pos_counts'] = db['arg1'].apply(count_main_pos_tags)\n"
     ]
    },
    {
     "name": "stdout",
     "output_type": "stream",
     "text": [
      "                              arg1  is_valuable  length  Noun  Pronoun   \n",
      "0  Alabama Governor George Wallace          1.0       4     4        0  \\\n",
      "1       an infamous segregationist          0.0       3     1        0   \n",
      "2                          Wallace          1.0       1     1        0   \n",
      "3                  Hunt Commission          1.0       2     2        0   \n",
      "4                  Hunt Commission          1.0       2     2        0   \n",
      "\n",
      "   Adjective  Verb  \n",
      "0          0     0  \n",
      "1          1     0  \n",
      "2          0     0  \n",
      "3          0     0  \n",
      "4          0     0  \n"
     ]
    }
   ],
   "source": [
    "db_arg1=for_class(final,\"arg1\")\n",
    "y_arg1=final[\"is_valuable\"]"
   ]
  },
  {
   "cell_type": "code",
   "execution_count": 85,
   "metadata": {},
   "outputs": [
    {
     "name": "stdout",
     "output_type": "stream",
     "text": [
      "the average accuracy was: 0.8127595628415302 and the complete score was: [0.83606557 0.86885246 0.80327869 0.83606557 0.85       0.8\n",
      " 0.86666667 0.75       0.75       0.76666667]\n"
     ]
    }
   ],
   "source": [
    "rf_arg1=RandomForestClassifier(random_state=42)\n",
    "score = cross_val_score(rf_arg1, db_arg1, y_arg1, cv=10,error_score='raise')\n",
    "print(f\"the average accuracy was: {score.mean()} and the complete score was: {score}\")"
   ]
  },
  {
   "cell_type": "code",
   "execution_count": 80,
   "metadata": {},
   "outputs": [
    {
     "data": {
      "text/html": [
       "<div>\n",
       "<style scoped>\n",
       "    .dataframe tbody tr th:only-of-type {\n",
       "        vertical-align: middle;\n",
       "    }\n",
       "\n",
       "    .dataframe tbody tr th {\n",
       "        vertical-align: top;\n",
       "    }\n",
       "\n",
       "    .dataframe thead th {\n",
       "        text-align: right;\n",
       "    }\n",
       "</style>\n",
       "<table border=\"1\" class=\"dataframe\">\n",
       "  <thead>\n",
       "    <tr style=\"text-align: right;\">\n",
       "      <th></th>\n",
       "      <th>confidence</th>\n",
       "      <th>sentence</th>\n",
       "      <th>arg1</th>\n",
       "      <th>rel</th>\n",
       "      <th>arg2</th>\n",
       "      <th>negated</th>\n",
       "      <th>passive</th>\n",
       "      <th>is_valuable</th>\n",
       "      <th>is_valuable_rel</th>\n",
       "      <th>is_valuable_arg2</th>\n",
       "      <th>Noun</th>\n",
       "      <th>Pronoun</th>\n",
       "      <th>Adjective</th>\n",
       "      <th>Verb</th>\n",
       "    </tr>\n",
       "  </thead>\n",
       "  <tbody>\n",
       "    <tr>\n",
       "      <th>0</th>\n",
       "      <td>9.615261e-01</td>\n",
       "      <td>Alabama Governor George Wallace, an infamous s...</td>\n",
       "      <td>Alabama Governor George Wallace</td>\n",
       "      <td>did well</td>\n",
       "      <td>in South and among alienated and dissatisfied ...</td>\n",
       "      <td>0.0</td>\n",
       "      <td>0.0</td>\n",
       "      <td>1.0</td>\n",
       "      <td>1.0</td>\n",
       "      <td>1.0</td>\n",
       "      <td>4</td>\n",
       "      <td>0</td>\n",
       "      <td>0</td>\n",
       "      <td>0</td>\n",
       "    </tr>\n",
       "    <tr>\n",
       "      <th>1</th>\n",
       "      <td>9.200288e-01</td>\n",
       "      <td>Alabama Governor George Wallace, an infamous s...</td>\n",
       "      <td>an infamous segregationist</td>\n",
       "      <td>ran</td>\n",
       "      <td>on a third-party ticket in 1968</td>\n",
       "      <td>0.0</td>\n",
       "      <td>0.0</td>\n",
       "      <td>0.0</td>\n",
       "      <td>1.0</td>\n",
       "      <td>0.0</td>\n",
       "      <td>1</td>\n",
       "      <td>0</td>\n",
       "      <td>1</td>\n",
       "      <td>0</td>\n",
       "    </tr>\n",
       "    <tr>\n",
       "      <th>2</th>\n",
       "      <td>9.324145e-01</td>\n",
       "      <td>What might have become a forceful campaign was...</td>\n",
       "      <td>Wallace</td>\n",
       "      <td>was shot</td>\n",
       "      <td>in an assassination attempt by Arthur Bremer</td>\n",
       "      <td>0.0</td>\n",
       "      <td>1.0</td>\n",
       "      <td>1.0</td>\n",
       "      <td>1.0</td>\n",
       "      <td>1.0</td>\n",
       "      <td>1</td>\n",
       "      <td>0</td>\n",
       "      <td>0</td>\n",
       "      <td>0</td>\n",
       "    </tr>\n",
       "    <tr>\n",
       "      <th>3</th>\n",
       "      <td>9.266232e-01</td>\n",
       "      <td>McGovern had led Hunt Commission to re-design ...</td>\n",
       "      <td>Hunt Commission</td>\n",
       "      <td>to re-design</td>\n",
       "      <td>Democratic nomination system</td>\n",
       "      <td>0.0</td>\n",
       "      <td>0.0</td>\n",
       "      <td>1.0</td>\n",
       "      <td>0.0</td>\n",
       "      <td>1.0</td>\n",
       "      <td>2</td>\n",
       "      <td>0</td>\n",
       "      <td>0</td>\n",
       "      <td>0</td>\n",
       "    </tr>\n",
       "    <tr>\n",
       "      <th>4</th>\n",
       "      <td>9.382554e-01</td>\n",
       "      <td>Some of principles of Hunt Commission have las...</td>\n",
       "      <td>Hunt Commission</td>\n",
       "      <td>instituted</td>\n",
       "      <td>selection of Superdelegates</td>\n",
       "      <td>0.0</td>\n",
       "      <td>0.0</td>\n",
       "      <td>1.0</td>\n",
       "      <td>1.0</td>\n",
       "      <td>1.0</td>\n",
       "      <td>2</td>\n",
       "      <td>0</td>\n",
       "      <td>0</td>\n",
       "      <td>0</td>\n",
       "    </tr>\n",
       "    <tr>\n",
       "      <th>...</th>\n",
       "      <td>...</td>\n",
       "      <td>...</td>\n",
       "      <td>...</td>\n",
       "      <td>...</td>\n",
       "      <td>...</td>\n",
       "      <td>...</td>\n",
       "      <td>...</td>\n",
       "      <td>...</td>\n",
       "      <td>...</td>\n",
       "      <td>...</td>\n",
       "      <td>...</td>\n",
       "      <td>...</td>\n",
       "      <td>...</td>\n",
       "      <td>...</td>\n",
       "    </tr>\n",
       "    <tr>\n",
       "      <th>599</th>\n",
       "      <td>8.872966e+15</td>\n",
       "      <td>Labor governments have not attempted \"democrat...</td>\n",
       "      <td>1940 s</td>\n",
       "      <td>have privatised</td>\n",
       "      <td>several industries such as banking</td>\n",
       "      <td>0.0</td>\n",
       "      <td>0.0</td>\n",
       "      <td>0.0</td>\n",
       "      <td>1.0</td>\n",
       "      <td>1.0</td>\n",
       "      <td>1</td>\n",
       "      <td>0</td>\n",
       "      <td>0</td>\n",
       "      <td>0</td>\n",
       "    </tr>\n",
       "    <tr>\n",
       "      <th>600</th>\n",
       "      <td>9.143457e+15</td>\n",
       "      <td>Labor governments have not attempted \"democrat...</td>\n",
       "      <td>Chifley government</td>\n",
       "      <td>to nationalise</td>\n",
       "      <td>private banks</td>\n",
       "      <td>0.0</td>\n",
       "      <td>0.0</td>\n",
       "      <td>1.0</td>\n",
       "      <td>0.0</td>\n",
       "      <td>1.0</td>\n",
       "      <td>1</td>\n",
       "      <td>0</td>\n",
       "      <td>1</td>\n",
       "      <td>0</td>\n",
       "    </tr>\n",
       "    <tr>\n",
       "      <th>601</th>\n",
       "      <td>9.755173e+15</td>\n",
       "      <td>The Labor Party has always had a left wing and...</td>\n",
       "      <td>The Labor Party</td>\n",
       "      <td>has been organised</td>\n",
       "      <td>into formal factions</td>\n",
       "      <td>0.0</td>\n",
       "      <td>1.0</td>\n",
       "      <td>1.0</td>\n",
       "      <td>1.0</td>\n",
       "      <td>1.0</td>\n",
       "      <td>2</td>\n",
       "      <td>0</td>\n",
       "      <td>0</td>\n",
       "      <td>0</td>\n",
       "    </tr>\n",
       "    <tr>\n",
       "      <th>602</th>\n",
       "      <td>7.710171e+15</td>\n",
       "      <td>The two largest factions tend to occupy social...</td>\n",
       "      <td>The two largest factions</td>\n",
       "      <td>to occupy</td>\n",
       "      <td>social - liberal</td>\n",
       "      <td>0.0</td>\n",
       "      <td>1.0</td>\n",
       "      <td>1.0</td>\n",
       "      <td>0.0</td>\n",
       "      <td>0.0</td>\n",
       "      <td>1</td>\n",
       "      <td>0</td>\n",
       "      <td>1</td>\n",
       "      <td>0</td>\n",
       "    </tr>\n",
       "    <tr>\n",
       "      <th>603</th>\n",
       "      <td>9.030402e+15</td>\n",
       "      <td>Trade unions were in past accused of giving in...</td>\n",
       "      <td>Trade unions</td>\n",
       "      <td>were</td>\n",
       "      <td>in past</td>\n",
       "      <td>0.0</td>\n",
       "      <td>1.0</td>\n",
       "      <td>1.0</td>\n",
       "      <td>1.0</td>\n",
       "      <td>0.0</td>\n",
       "      <td>2</td>\n",
       "      <td>0</td>\n",
       "      <td>0</td>\n",
       "      <td>0</td>\n",
       "    </tr>\n",
       "  </tbody>\n",
       "</table>\n",
       "<p>604 rows × 14 columns</p>\n",
       "</div>"
      ],
      "text/plain": [
       "       confidence                                           sentence   \n",
       "0    9.615261e-01  Alabama Governor George Wallace, an infamous s...  \\\n",
       "1    9.200288e-01  Alabama Governor George Wallace, an infamous s...   \n",
       "2    9.324145e-01  What might have become a forceful campaign was...   \n",
       "3    9.266232e-01  McGovern had led Hunt Commission to re-design ...   \n",
       "4    9.382554e-01  Some of principles of Hunt Commission have las...   \n",
       "..            ...                                                ...   \n",
       "599  8.872966e+15  Labor governments have not attempted \"democrat...   \n",
       "600  9.143457e+15  Labor governments have not attempted \"democrat...   \n",
       "601  9.755173e+15  The Labor Party has always had a left wing and...   \n",
       "602  7.710171e+15  The two largest factions tend to occupy social...   \n",
       "603  9.030402e+15  Trade unions were in past accused of giving in...   \n",
       "\n",
       "                                arg1                 rel   \n",
       "0    Alabama Governor George Wallace            did well  \\\n",
       "1         an infamous segregationist                 ran   \n",
       "2                            Wallace            was shot   \n",
       "3                    Hunt Commission        to re-design   \n",
       "4                    Hunt Commission          instituted   \n",
       "..                               ...                 ...   \n",
       "599                           1940 s     have privatised   \n",
       "600               Chifley government      to nationalise   \n",
       "601                  The Labor Party  has been organised   \n",
       "602         The two largest factions           to occupy   \n",
       "603                     Trade unions                were   \n",
       "\n",
       "                                                  arg2  negated  passive   \n",
       "0    in South and among alienated and dissatisfied ...      0.0      0.0  \\\n",
       "1                      on a third-party ticket in 1968      0.0      0.0   \n",
       "2         in an assassination attempt by Arthur Bremer      0.0      1.0   \n",
       "3                         Democratic nomination system      0.0      0.0   \n",
       "4                          selection of Superdelegates      0.0      0.0   \n",
       "..                                                 ...      ...      ...   \n",
       "599                 several industries such as banking      0.0      0.0   \n",
       "600                                      private banks      0.0      0.0   \n",
       "601                               into formal factions      0.0      1.0   \n",
       "602                                   social - liberal      0.0      1.0   \n",
       "603                                            in past      0.0      1.0   \n",
       "\n",
       "     is_valuable  is_valuable_rel  is_valuable_arg2  Noun  Pronoun  Adjective   \n",
       "0            1.0              1.0               1.0     4        0          0  \\\n",
       "1            0.0              1.0               0.0     1        0          1   \n",
       "2            1.0              1.0               1.0     1        0          0   \n",
       "3            1.0              0.0               1.0     2        0          0   \n",
       "4            1.0              1.0               1.0     2        0          0   \n",
       "..           ...              ...               ...   ...      ...        ...   \n",
       "599          0.0              1.0               1.0     1        0          0   \n",
       "600          1.0              0.0               1.0     1        0          1   \n",
       "601          1.0              1.0               1.0     2        0          0   \n",
       "602          1.0              0.0               0.0     1        0          1   \n",
       "603          1.0              1.0               0.0     2        0          0   \n",
       "\n",
       "     Verb  \n",
       "0       0  \n",
       "1       0  \n",
       "2       0  \n",
       "3       0  \n",
       "4       0  \n",
       "..    ...  \n",
       "599     0  \n",
       "600     0  \n",
       "601     0  \n",
       "602     0  \n",
       "603     0  \n",
       "\n",
       "[604 rows x 14 columns]"
      ]
     },
     "execution_count": 80,
     "metadata": {},
     "output_type": "execute_result"
    }
   ],
   "source": [
    "ex"
   ]
  },
  {
   "cell_type": "code",
   "execution_count": null,
   "metadata": {},
   "outputs": [],
   "source": []
  }
 ],
 "metadata": {
  "kernelspec": {
   "display_name": "Python 3",
   "language": "python",
   "name": "python3"
  },
  "language_info": {
   "codemirror_mode": {
    "name": "ipython",
    "version": 3
   },
   "file_extension": ".py",
   "mimetype": "text/x-python",
   "name": "python",
   "nbconvert_exporter": "python",
   "pygments_lexer": "ipython3",
   "version": "3.8.5"
  },
  "orig_nbformat": 4
 },
 "nbformat": 4,
 "nbformat_minor": 2
}
